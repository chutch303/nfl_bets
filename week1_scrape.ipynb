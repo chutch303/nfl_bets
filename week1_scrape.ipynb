{
 "cells": [
  {
   "cell_type": "code",
   "execution_count": 3,
   "metadata": {},
   "outputs": [],
   "source": [
    "import requests\n",
    "from bs4 import BeautifulSoup\n",
    "import pandas as pd\n",
    "import numpy as np"
   ]
  },
  {
   "cell_type": "markdown",
   "metadata": {},
   "source": [
    "# Week 1"
   ]
  },
  {
   "cell_type": "code",
   "execution_count": 4,
   "metadata": {},
   "outputs": [],
   "source": [
    "week1_link = 'http://www.footballlocks.com/nfl_odds_week_1.shtml#Closing%20NFL%20Odds%20Week%201,%202007'"
   ]
  },
  {
   "cell_type": "code",
   "execution_count": 5,
   "metadata": {},
   "outputs": [],
   "source": [
    "#get html text\n",
    "week1_html = requests.get(week1_link).text"
   ]
  },
  {
   "cell_type": "code",
   "execution_count": 6,
   "metadata": {},
   "outputs": [],
   "source": [
    "soup = BeautifulSoup(week1_html, 'html.parser')"
   ]
  },
  {
   "cell_type": "code",
   "execution_count": 7,
   "metadata": {},
   "outputs": [],
   "source": [
    "#want just table row data\n",
    "tr = soup.find_all(\"tr\")"
   ]
  },
  {
   "cell_type": "code",
   "execution_count": 8,
   "metadata": {},
   "outputs": [
    {
     "data": {
      "text/plain": [
       "bs4.element.Tag"
      ]
     },
     "execution_count": 8,
     "metadata": {},
     "output_type": "execute_result"
    }
   ],
   "source": [
    "type(tr[0])"
   ]
  },
  {
   "cell_type": "code",
   "execution_count": 9,
   "metadata": {},
   "outputs": [
    {
     "data": {
      "text/plain": [
       "{'attrs': {},\n",
       " 'can_be_empty_element': False,\n",
       " 'contents': [<td><table border=\"0\" cellpadding=\"0\" cellspacing=\"0\" colspan=\"3\" width=\"1003\">\n",
       "  <tr>\n",
       "  <td width=\"138\">\n",
       "  <div align=\"left\">\n",
       "  <script type=\"text/javascript\"><!--// <![CDATA[\n",
       "      /* [id35] Left Leaderboard Zone 125x90 */\n",
       "      OA_show(35);\n",
       "  // ]]> --></script><noscript><a href=\"http://www.footballlocks.com/openx/www/delivery/ck.php?n=a3f6b33\" target=\"_blank\">\n",
       "  <img alt=\"\" border=\"0\" src=\"http://www.footballlocks.com/openx/www/delivery/avw.php?zoneid=35&amp;n=a3f6b33\"/></a></noscript>\n",
       "  </div></td>\n",
       "  <td width=\"728\"><div align=\"center\">\n",
       "  <script type=\"text/javascript\"><!--// <![CDATA[\n",
       "      /* [id15] Leaderboard Banner Ad Zone 728 x 90 */\n",
       "      OA_show(15);\n",
       "  // ]]> --></script><noscript><a href=\"http://www.footballlocks.com/openx/www/delivery/ck.php?n=f29ad82\" target=\"_blank\">\n",
       "  <img alt=\"\" border=\"0\" src=\"http://www.footballlocks.com/openx/www/delivery/avw.php?zoneid=15&amp;n=f29ad82\"/></a></noscript>\n",
       "  </div></td>\n",
       "  <td width=\"137\">\n",
       "  <div align=\"right\">\n",
       "  <script type=\"text/javascript\"><!--// <![CDATA[\n",
       "      OA_show(85);\n",
       "  // ]]> --></script><noscript><a href=\"http://www.footballlocks.com/openx/www/delivery/ck.php?n=d612d10\" target=\"_blank\">\n",
       "  <img alt=\"\" border=\"0\" src=\"http://www.footballlocks.com/openx/www/delivery/avw.php?zoneid=85&amp;n=d612d10\"/></a></noscript>\n",
       "  </div></td>\n",
       "  </tr></table></td>],\n",
       " 'hidden': False,\n",
       " 'known_xml': False,\n",
       " 'name': 'tr',\n",
       " 'namespace': None,\n",
       " 'next_element': <td><table border=\"0\" cellpadding=\"0\" cellspacing=\"0\" colspan=\"3\" width=\"1003\">\n",
       " <tr>\n",
       " <td width=\"138\">\n",
       " <div align=\"left\">\n",
       " <script type=\"text/javascript\"><!--// <![CDATA[\n",
       "     /* [id35] Left Leaderboard Zone 125x90 */\n",
       "     OA_show(35);\n",
       " // ]]> --></script><noscript><a href=\"http://www.footballlocks.com/openx/www/delivery/ck.php?n=a3f6b33\" target=\"_blank\">\n",
       " <img alt=\"\" border=\"0\" src=\"http://www.footballlocks.com/openx/www/delivery/avw.php?zoneid=35&amp;n=a3f6b33\"/></a></noscript>\n",
       " </div></td>\n",
       " <td width=\"728\"><div align=\"center\">\n",
       " <script type=\"text/javascript\"><!--// <![CDATA[\n",
       "     /* [id15] Leaderboard Banner Ad Zone 728 x 90 */\n",
       "     OA_show(15);\n",
       " // ]]> --></script><noscript><a href=\"http://www.footballlocks.com/openx/www/delivery/ck.php?n=f29ad82\" target=\"_blank\">\n",
       " <img alt=\"\" border=\"0\" src=\"http://www.footballlocks.com/openx/www/delivery/avw.php?zoneid=15&amp;n=f29ad82\"/></a></noscript>\n",
       " </div></td>\n",
       " <td width=\"137\">\n",
       " <div align=\"right\">\n",
       " <script type=\"text/javascript\"><!--// <![CDATA[\n",
       "     OA_show(85);\n",
       " // ]]> --></script><noscript><a href=\"http://www.footballlocks.com/openx/www/delivery/ck.php?n=d612d10\" target=\"_blank\">\n",
       " <img alt=\"\" border=\"0\" src=\"http://www.footballlocks.com/openx/www/delivery/avw.php?zoneid=85&amp;n=d612d10\"/></a></noscript>\n",
       " </div></td>\n",
       " </tr></table></td>,\n",
       " 'next_sibling': None,\n",
       " 'parent': <table align=\"center\" border=\"0\" cellpadding=\"0\" cellspacing=\"0\" width=\"100%\">\n",
       " <tr><td><table border=\"0\" cellpadding=\"0\" cellspacing=\"0\" colspan=\"3\" width=\"1003\">\n",
       " <tr>\n",
       " <td width=\"138\">\n",
       " <div align=\"left\">\n",
       " <script type=\"text/javascript\"><!--// <![CDATA[\n",
       "     /* [id35] Left Leaderboard Zone 125x90 */\n",
       "     OA_show(35);\n",
       " // ]]> --></script><noscript><a href=\"http://www.footballlocks.com/openx/www/delivery/ck.php?n=a3f6b33\" target=\"_blank\">\n",
       " <img alt=\"\" border=\"0\" src=\"http://www.footballlocks.com/openx/www/delivery/avw.php?zoneid=35&amp;n=a3f6b33\"/></a></noscript>\n",
       " </div></td>\n",
       " <td width=\"728\"><div align=\"center\">\n",
       " <script type=\"text/javascript\"><!--// <![CDATA[\n",
       "     /* [id15] Leaderboard Banner Ad Zone 728 x 90 */\n",
       "     OA_show(15);\n",
       " // ]]> --></script><noscript><a href=\"http://www.footballlocks.com/openx/www/delivery/ck.php?n=f29ad82\" target=\"_blank\">\n",
       " <img alt=\"\" border=\"0\" src=\"http://www.footballlocks.com/openx/www/delivery/avw.php?zoneid=15&amp;n=f29ad82\"/></a></noscript>\n",
       " </div></td>\n",
       " <td width=\"137\">\n",
       " <div align=\"right\">\n",
       " <script type=\"text/javascript\"><!--// <![CDATA[\n",
       "     OA_show(85);\n",
       " // ]]> --></script><noscript><a href=\"http://www.footballlocks.com/openx/www/delivery/ck.php?n=d612d10\" target=\"_blank\">\n",
       " <img alt=\"\" border=\"0\" src=\"http://www.footballlocks.com/openx/www/delivery/avw.php?zoneid=85&amp;n=d612d10\"/></a></noscript>\n",
       " </div></td>\n",
       " </tr></table></td></tr></table>,\n",
       " 'parser_class': bs4.BeautifulSoup,\n",
       " 'prefix': None,\n",
       " 'preserve_whitespace_tags': {'pre', 'textarea'},\n",
       " 'previous_element': '\\n',\n",
       " 'previous_sibling': '\\n'}"
      ]
     },
     "execution_count": 9,
     "metadata": {},
     "output_type": "execute_result"
    }
   ],
   "source": [
    "tr[0].__dict__"
   ]
  },
  {
   "cell_type": "code",
   "execution_count": 10,
   "metadata": {},
   "outputs": [
    {
     "data": {
      "text/plain": [
       "311"
      ]
     },
     "execution_count": 10,
     "metadata": {},
     "output_type": "execute_result"
    }
   ],
   "source": [
    "len(tr)"
   ]
  },
  {
   "cell_type": "code",
   "execution_count": 14,
   "metadata": {},
   "outputs": [
    {
     "data": {
      "text/plain": [
       "<tr>\n",
       "<td>9/6 8:20 ET</td>\n",
       "<td>At Philadelphia</td>\n",
       "<td> <span title=\"Pick Em. No Favorite. No Underdog.\">PK</span></td>\n",
       "<td>Atlanta</td>\n",
       "<td>44</td>\n",
       "<td>-$110  -$110</td>\n",
       "</tr>"
      ]
     },
     "execution_count": 14,
     "metadata": {},
     "output_type": "execute_result"
    }
   ],
   "source": [
    "#start of table\n",
    "tr[51]"
   ]
  },
  {
   "cell_type": "code",
   "execution_count": 15,
   "metadata": {},
   "outputs": [
    {
     "data": {
      "text/plain": [
       "<tr>\n",
       "<td>9/11 10:15 ET</td>\n",
       "<td>San Diego</td>\n",
       "<td>-3</td>\n",
       "<td>At Oakland</td>\n",
       "<td>42</td>\n",
       "<td>-$160 +$140</td>\n",
       "</tr>"
      ]
     },
     "execution_count": 15,
     "metadata": {},
     "output_type": "execute_result"
    }
   ],
   "source": [
    "#last entry in table\n",
    "tr[295]"
   ]
  },
  {
   "cell_type": "code",
   "execution_count": 16,
   "metadata": {},
   "outputs": [],
   "source": [
    "#want to 296 because it does not include last one\n",
    "table = tr[51:296]"
   ]
  },
  {
   "cell_type": "code",
   "execution_count": 17,
   "metadata": {},
   "outputs": [
    {
     "data": {
      "text/plain": [
       "bs4.element.Tag"
      ]
     },
     "execution_count": 17,
     "metadata": {},
     "output_type": "execute_result"
    }
   ],
   "source": [
    "type(table[-1])"
   ]
  },
  {
   "cell_type": "code",
   "execution_count": 18,
   "metadata": {},
   "outputs": [
    {
     "data": {
      "text/plain": [
       "list"
      ]
     },
     "execution_count": 18,
     "metadata": {},
     "output_type": "execute_result"
    }
   ],
   "source": [
    "type(table)"
   ]
  },
  {
   "cell_type": "code",
   "execution_count": 19,
   "metadata": {},
   "outputs": [],
   "source": [
    "string_table = [str(i) for i in table]"
   ]
  },
  {
   "cell_type": "code",
   "execution_count": 20,
   "metadata": {},
   "outputs": [
    {
     "data": {
      "text/plain": [
       "str"
      ]
     },
     "execution_count": 20,
     "metadata": {},
     "output_type": "execute_result"
    }
   ],
   "source": [
    "type(string_table[0])"
   ]
  },
  {
   "cell_type": "code",
   "execution_count": 21,
   "metadata": {},
   "outputs": [],
   "source": [
    "week1_df = pd.DataFrame(string_table)"
   ]
  },
  {
   "cell_type": "code",
   "execution_count": 22,
   "metadata": {
    "scrolled": true
   },
   "outputs": [
    {
     "data": {
      "text/html": [
       "<div>\n",
       "<style scoped>\n",
       "    .dataframe tbody tr th:only-of-type {\n",
       "        vertical-align: middle;\n",
       "    }\n",
       "\n",
       "    .dataframe tbody tr th {\n",
       "        vertical-align: top;\n",
       "    }\n",
       "\n",
       "    .dataframe thead th {\n",
       "        text-align: right;\n",
       "    }\n",
       "</style>\n",
       "<table border=\"1\" class=\"dataframe\">\n",
       "  <thead>\n",
       "    <tr style=\"text-align: right;\">\n",
       "      <th></th>\n",
       "      <th>0</th>\n",
       "    </tr>\n",
       "  </thead>\n",
       "  <tbody>\n",
       "    <tr>\n",
       "      <th>0</th>\n",
       "      <td>&lt;tr&gt;\\n&lt;td&gt;9/6 8:20 ET&lt;/td&gt;\\n&lt;td&gt;At Philadelphi...</td>\n",
       "    </tr>\n",
       "    <tr>\n",
       "      <th>1</th>\n",
       "      <td>&lt;tr&gt;\\n&lt;td&gt;9/9 1:00 ET&lt;/td&gt;\\n&lt;td&gt;Pittsburgh&lt;/td...</td>\n",
       "    </tr>\n",
       "    <tr>\n",
       "      <th>2</th>\n",
       "      <td>&lt;tr&gt;\\n&lt;td&gt;9/9 1:00 ET&lt;/td&gt;\\n&lt;td&gt;At Minnesota&lt;/...</td>\n",
       "    </tr>\n",
       "    <tr>\n",
       "      <th>3</th>\n",
       "      <td>&lt;tr&gt;\\n&lt;td&gt;9/9 1:00 ET&lt;/td&gt;\\n&lt;td&gt;At Indianapoli...</td>\n",
       "    </tr>\n",
       "    <tr>\n",
       "      <th>4</th>\n",
       "      <td>&lt;tr&gt;\\n&lt;td&gt;9/9 1:00 ET&lt;/td&gt;\\n&lt;td&gt;At Baltimore&lt;/...</td>\n",
       "    </tr>\n",
       "  </tbody>\n",
       "</table>\n",
       "</div>"
      ],
      "text/plain": [
       "                                                   0\n",
       "0  <tr>\\n<td>9/6 8:20 ET</td>\\n<td>At Philadelphi...\n",
       "1  <tr>\\n<td>9/9 1:00 ET</td>\\n<td>Pittsburgh</td...\n",
       "2  <tr>\\n<td>9/9 1:00 ET</td>\\n<td>At Minnesota</...\n",
       "3  <tr>\\n<td>9/9 1:00 ET</td>\\n<td>At Indianapoli...\n",
       "4  <tr>\\n<td>9/9 1:00 ET</td>\\n<td>At Baltimore</..."
      ]
     },
     "execution_count": 22,
     "metadata": {},
     "output_type": "execute_result"
    }
   ],
   "source": [
    "week1_df.head()"
   ]
  },
  {
   "cell_type": "code",
   "execution_count": 23,
   "metadata": {},
   "outputs": [],
   "source": [
    "week1_df.columns = ['all_data']"
   ]
  },
  {
   "cell_type": "code",
   "execution_count": 24,
   "metadata": {
    "scrolled": true
   },
   "outputs": [
    {
     "data": {
      "text/html": [
       "<div>\n",
       "<style scoped>\n",
       "    .dataframe tbody tr th:only-of-type {\n",
       "        vertical-align: middle;\n",
       "    }\n",
       "\n",
       "    .dataframe tbody tr th {\n",
       "        vertical-align: top;\n",
       "    }\n",
       "\n",
       "    .dataframe thead th {\n",
       "        text-align: right;\n",
       "    }\n",
       "</style>\n",
       "<table border=\"1\" class=\"dataframe\">\n",
       "  <thead>\n",
       "    <tr style=\"text-align: right;\">\n",
       "      <th></th>\n",
       "      <th>all_data</th>\n",
       "    </tr>\n",
       "  </thead>\n",
       "  <tbody>\n",
       "    <tr>\n",
       "      <th>0</th>\n",
       "      <td>&lt;tr&gt;\\n&lt;td&gt;9/6 8:20 ET&lt;/td&gt;\\n&lt;td&gt;At Philadelphi...</td>\n",
       "    </tr>\n",
       "    <tr>\n",
       "      <th>1</th>\n",
       "      <td>&lt;tr&gt;\\n&lt;td&gt;9/9 1:00 ET&lt;/td&gt;\\n&lt;td&gt;Pittsburgh&lt;/td...</td>\n",
       "    </tr>\n",
       "    <tr>\n",
       "      <th>2</th>\n",
       "      <td>&lt;tr&gt;\\n&lt;td&gt;9/9 1:00 ET&lt;/td&gt;\\n&lt;td&gt;At Minnesota&lt;/...</td>\n",
       "    </tr>\n",
       "    <tr>\n",
       "      <th>3</th>\n",
       "      <td>&lt;tr&gt;\\n&lt;td&gt;9/9 1:00 ET&lt;/td&gt;\\n&lt;td&gt;At Indianapoli...</td>\n",
       "    </tr>\n",
       "    <tr>\n",
       "      <th>4</th>\n",
       "      <td>&lt;tr&gt;\\n&lt;td&gt;9/9 1:00 ET&lt;/td&gt;\\n&lt;td&gt;At Baltimore&lt;/...</td>\n",
       "    </tr>\n",
       "  </tbody>\n",
       "</table>\n",
       "</div>"
      ],
      "text/plain": [
       "                                            all_data\n",
       "0  <tr>\\n<td>9/6 8:20 ET</td>\\n<td>At Philadelphi...\n",
       "1  <tr>\\n<td>9/9 1:00 ET</td>\\n<td>Pittsburgh</td...\n",
       "2  <tr>\\n<td>9/9 1:00 ET</td>\\n<td>At Minnesota</...\n",
       "3  <tr>\\n<td>9/9 1:00 ET</td>\\n<td>At Indianapoli...\n",
       "4  <tr>\\n<td>9/9 1:00 ET</td>\\n<td>At Baltimore</..."
      ]
     },
     "execution_count": 24,
     "metadata": {},
     "output_type": "execute_result"
    }
   ],
   "source": [
    "week1_df.head()"
   ]
  },
  {
   "cell_type": "code",
   "execution_count": 25,
   "metadata": {},
   "outputs": [
    {
     "data": {
      "text/plain": [
       "'<tr>\\n<td>9/6 8:20 ET</td>\\n<td>At Philadelphia</td>\\n<td>\\xa0<span title=\"Pick Em. No Favorite. No Underdog.\">PK</span></td>\\n<td>Atlanta</td>\\n<td>44</td>\\n<td>-$110 \\xa0-$110</td>\\n</tr>'"
      ]
     },
     "execution_count": 25,
     "metadata": {},
     "output_type": "execute_result"
    }
   ],
   "source": [
    "week1_df['all_data'][0]"
   ]
  },
  {
   "cell_type": "code",
   "execution_count": 26,
   "metadata": {},
   "outputs": [
    {
     "data": {
      "text/plain": [
       "['<tr>\\n<',\n",
       " '>9/6 8:20 ET</',\n",
       " '>\\n<',\n",
       " '>At Philadelphia</',\n",
       " '>\\n<',\n",
       " '>\\xa0<span title=\"Pick Em. No Favorite. No Underdog.\">PK</span></',\n",
       " '>\\n<',\n",
       " '>Atlanta</',\n",
       " '>\\n<',\n",
       " '>44</',\n",
       " '>\\n<',\n",
       " '>-$110 \\xa0-$110</',\n",
       " '>\\n</tr>']"
      ]
     },
     "execution_count": 26,
     "metadata": {},
     "output_type": "execute_result"
    }
   ],
   "source": [
    "week1_df['all_data'][0].split('td')"
   ]
  },
  {
   "cell_type": "code",
   "execution_count": 27,
   "metadata": {
    "scrolled": true
   },
   "outputs": [],
   "source": [
    "#want to clean the date data\n",
    "date_string = week1_df['all_data'][0].split('td')[1]"
   ]
  },
  {
   "cell_type": "code",
   "execution_count": 28,
   "metadata": {},
   "outputs": [
    {
     "data": {
      "text/plain": [
       "'9/6 8:20 ET'"
      ]
     },
     "execution_count": 28,
     "metadata": {},
     "output_type": "execute_result"
    }
   ],
   "source": [
    "str1 = date_string.replace(\">\", \"\")\n",
    "str2 = str1.replace(\"<\", \"\")\n",
    "final_str = str2[:-1]\n",
    "final_str"
   ]
  },
  {
   "cell_type": "code",
   "execution_count": 29,
   "metadata": {},
   "outputs": [],
   "source": [
    "dates = [x.split('td')[1] for x in week1_df['all_data']]"
   ]
  },
  {
   "cell_type": "code",
   "execution_count": 30,
   "metadata": {},
   "outputs": [],
   "source": [
    "cleaned_dates = []\n",
    "for x in dates:\n",
    "    str1 = x.replace(\">\", \"\")\n",
    "    str2 = str1.replace(\"<\", \"\")\n",
    "    final_str = str2[:-1]\n",
    "    cleaned_dates.append(final_str)"
   ]
  },
  {
   "cell_type": "code",
   "execution_count": 31,
   "metadata": {},
   "outputs": [
    {
     "data": {
      "text/plain": [
       "'9/6 8:20 ET'"
      ]
     },
     "execution_count": 31,
     "metadata": {},
     "output_type": "execute_result"
    }
   ],
   "source": [
    "cleaned_dates[0]"
   ]
  },
  {
   "cell_type": "code",
   "execution_count": 32,
   "metadata": {},
   "outputs": [],
   "source": [
    "week1_df['date'] = cleaned_dates"
   ]
  },
  {
   "cell_type": "code",
   "execution_count": 33,
   "metadata": {
    "scrolled": false
   },
   "outputs": [
    {
     "data": {
      "text/html": [
       "<div>\n",
       "<style scoped>\n",
       "    .dataframe tbody tr th:only-of-type {\n",
       "        vertical-align: middle;\n",
       "    }\n",
       "\n",
       "    .dataframe tbody tr th {\n",
       "        vertical-align: top;\n",
       "    }\n",
       "\n",
       "    .dataframe thead th {\n",
       "        text-align: right;\n",
       "    }\n",
       "</style>\n",
       "<table border=\"1\" class=\"dataframe\">\n",
       "  <thead>\n",
       "    <tr style=\"text-align: right;\">\n",
       "      <th></th>\n",
       "      <th>all_data</th>\n",
       "      <th>date</th>\n",
       "    </tr>\n",
       "  </thead>\n",
       "  <tbody>\n",
       "    <tr>\n",
       "      <th>0</th>\n",
       "      <td>&lt;tr&gt;\\n&lt;td&gt;9/6 8:20 ET&lt;/td&gt;\\n&lt;td&gt;At Philadelphi...</td>\n",
       "      <td>9/6 8:20 ET</td>\n",
       "    </tr>\n",
       "    <tr>\n",
       "      <th>1</th>\n",
       "      <td>&lt;tr&gt;\\n&lt;td&gt;9/9 1:00 ET&lt;/td&gt;\\n&lt;td&gt;Pittsburgh&lt;/td...</td>\n",
       "      <td>9/9 1:00 ET</td>\n",
       "    </tr>\n",
       "    <tr>\n",
       "      <th>2</th>\n",
       "      <td>&lt;tr&gt;\\n&lt;td&gt;9/9 1:00 ET&lt;/td&gt;\\n&lt;td&gt;At Minnesota&lt;/...</td>\n",
       "      <td>9/9 1:00 ET</td>\n",
       "    </tr>\n",
       "    <tr>\n",
       "      <th>3</th>\n",
       "      <td>&lt;tr&gt;\\n&lt;td&gt;9/9 1:00 ET&lt;/td&gt;\\n&lt;td&gt;At Indianapoli...</td>\n",
       "      <td>9/9 1:00 ET</td>\n",
       "    </tr>\n",
       "    <tr>\n",
       "      <th>4</th>\n",
       "      <td>&lt;tr&gt;\\n&lt;td&gt;9/9 1:00 ET&lt;/td&gt;\\n&lt;td&gt;At Baltimore&lt;/...</td>\n",
       "      <td>9/9 1:00 ET</td>\n",
       "    </tr>\n",
       "  </tbody>\n",
       "</table>\n",
       "</div>"
      ],
      "text/plain": [
       "                                            all_data         date\n",
       "0  <tr>\\n<td>9/6 8:20 ET</td>\\n<td>At Philadelphi...  9/6 8:20 ET\n",
       "1  <tr>\\n<td>9/9 1:00 ET</td>\\n<td>Pittsburgh</td...  9/9 1:00 ET\n",
       "2  <tr>\\n<td>9/9 1:00 ET</td>\\n<td>At Minnesota</...  9/9 1:00 ET\n",
       "3  <tr>\\n<td>9/9 1:00 ET</td>\\n<td>At Indianapoli...  9/9 1:00 ET\n",
       "4  <tr>\\n<td>9/9 1:00 ET</td>\\n<td>At Baltimore</...  9/9 1:00 ET"
      ]
     },
     "execution_count": 33,
     "metadata": {},
     "output_type": "execute_result"
    }
   ],
   "source": [
    "week1_df.head()"
   ]
  },
  {
   "cell_type": "code",
   "execution_count": 34,
   "metadata": {},
   "outputs": [
    {
     "data": {
      "text/plain": [
       "'>At Philadelphia</'"
      ]
     },
     "execution_count": 34,
     "metadata": {},
     "output_type": "execute_result"
    }
   ],
   "source": [
    "week1_df['all_data'][0].split('td')[3]"
   ]
  },
  {
   "cell_type": "code",
   "execution_count": 36,
   "metadata": {},
   "outputs": [],
   "source": [
    "week1_df['favorites'] = week1_df['all_data'].map(lambda x: x.split('td')[3] if len(x.split('td'))>3 else np.nan)"
   ]
  },
  {
   "cell_type": "code",
   "execution_count": 37,
   "metadata": {
    "scrolled": true
   },
   "outputs": [
    {
     "data": {
      "text/html": [
       "<div>\n",
       "<style scoped>\n",
       "    .dataframe tbody tr th:only-of-type {\n",
       "        vertical-align: middle;\n",
       "    }\n",
       "\n",
       "    .dataframe tbody tr th {\n",
       "        vertical-align: top;\n",
       "    }\n",
       "\n",
       "    .dataframe thead th {\n",
       "        text-align: right;\n",
       "    }\n",
       "</style>\n",
       "<table border=\"1\" class=\"dataframe\">\n",
       "  <thead>\n",
       "    <tr style=\"text-align: right;\">\n",
       "      <th></th>\n",
       "      <th>all_data</th>\n",
       "      <th>date</th>\n",
       "      <th>favorites</th>\n",
       "    </tr>\n",
       "  </thead>\n",
       "  <tbody>\n",
       "    <tr>\n",
       "      <th>0</th>\n",
       "      <td>&lt;tr&gt;\\n&lt;td&gt;9/6 8:20 ET&lt;/td&gt;\\n&lt;td&gt;At Philadelphi...</td>\n",
       "      <td>9/6 8:20 ET</td>\n",
       "      <td>&gt;At Philadelphia&lt;/</td>\n",
       "    </tr>\n",
       "    <tr>\n",
       "      <th>1</th>\n",
       "      <td>&lt;tr&gt;\\n&lt;td&gt;9/9 1:00 ET&lt;/td&gt;\\n&lt;td&gt;Pittsburgh&lt;/td...</td>\n",
       "      <td>9/9 1:00 ET</td>\n",
       "      <td>&gt;Pittsburgh&lt;/</td>\n",
       "    </tr>\n",
       "    <tr>\n",
       "      <th>2</th>\n",
       "      <td>&lt;tr&gt;\\n&lt;td&gt;9/9 1:00 ET&lt;/td&gt;\\n&lt;td&gt;At Minnesota&lt;/...</td>\n",
       "      <td>9/9 1:00 ET</td>\n",
       "      <td>&gt;At Minnesota&lt;/</td>\n",
       "    </tr>\n",
       "    <tr>\n",
       "      <th>3</th>\n",
       "      <td>&lt;tr&gt;\\n&lt;td&gt;9/9 1:00 ET&lt;/td&gt;\\n&lt;td&gt;At Indianapoli...</td>\n",
       "      <td>9/9 1:00 ET</td>\n",
       "      <td>&gt;At Indianapolis&lt;/</td>\n",
       "    </tr>\n",
       "    <tr>\n",
       "      <th>4</th>\n",
       "      <td>&lt;tr&gt;\\n&lt;td&gt;9/9 1:00 ET&lt;/td&gt;\\n&lt;td&gt;At Baltimore&lt;/...</td>\n",
       "      <td>9/9 1:00 ET</td>\n",
       "      <td>&gt;At Baltimore&lt;/</td>\n",
       "    </tr>\n",
       "  </tbody>\n",
       "</table>\n",
       "</div>"
      ],
      "text/plain": [
       "                                            all_data         date  \\\n",
       "0  <tr>\\n<td>9/6 8:20 ET</td>\\n<td>At Philadelphi...  9/6 8:20 ET   \n",
       "1  <tr>\\n<td>9/9 1:00 ET</td>\\n<td>Pittsburgh</td...  9/9 1:00 ET   \n",
       "2  <tr>\\n<td>9/9 1:00 ET</td>\\n<td>At Minnesota</...  9/9 1:00 ET   \n",
       "3  <tr>\\n<td>9/9 1:00 ET</td>\\n<td>At Indianapoli...  9/9 1:00 ET   \n",
       "4  <tr>\\n<td>9/9 1:00 ET</td>\\n<td>At Baltimore</...  9/9 1:00 ET   \n",
       "\n",
       "            favorites  \n",
       "0  >At Philadelphia</  \n",
       "1       >Pittsburgh</  \n",
       "2     >At Minnesota</  \n",
       "3  >At Indianapolis</  \n",
       "4     >At Baltimore</  "
      ]
     },
     "execution_count": 37,
     "metadata": {},
     "output_type": "execute_result"
    }
   ],
   "source": [
    "week1_df.head()"
   ]
  },
  {
   "cell_type": "code",
   "execution_count": 40,
   "metadata": {},
   "outputs": [],
   "source": [
    "#week1_df to pickle\n",
    "week1_df.to_pickle('week1.pkl')"
   ]
  },
  {
   "cell_type": "code",
   "execution_count": 43,
   "metadata": {},
   "outputs": [],
   "source": [
    "week1_df = pd.read_pickle('week1.pkl')"
   ]
  },
  {
   "cell_type": "code",
   "execution_count": 44,
   "metadata": {},
   "outputs": [
    {
     "data": {
      "text/html": [
       "<div>\n",
       "<style scoped>\n",
       "    .dataframe tbody tr th:only-of-type {\n",
       "        vertical-align: middle;\n",
       "    }\n",
       "\n",
       "    .dataframe tbody tr th {\n",
       "        vertical-align: top;\n",
       "    }\n",
       "\n",
       "    .dataframe thead th {\n",
       "        text-align: right;\n",
       "    }\n",
       "</style>\n",
       "<table border=\"1\" class=\"dataframe\">\n",
       "  <thead>\n",
       "    <tr style=\"text-align: right;\">\n",
       "      <th></th>\n",
       "      <th>all_data</th>\n",
       "      <th>date</th>\n",
       "      <th>favorites</th>\n",
       "    </tr>\n",
       "  </thead>\n",
       "  <tbody>\n",
       "    <tr>\n",
       "      <th>0</th>\n",
       "      <td>&lt;tr&gt;\\n&lt;td&gt;9/6 8:20 ET&lt;/td&gt;\\n&lt;td&gt;At Philadelphi...</td>\n",
       "      <td>9/6 8:20 ET</td>\n",
       "      <td>&gt;At Philadelphia&lt;/</td>\n",
       "    </tr>\n",
       "    <tr>\n",
       "      <th>1</th>\n",
       "      <td>&lt;tr&gt;\\n&lt;td&gt;9/9 1:00 ET&lt;/td&gt;\\n&lt;td&gt;Pittsburgh&lt;/td...</td>\n",
       "      <td>9/9 1:00 ET</td>\n",
       "      <td>&gt;Pittsburgh&lt;/</td>\n",
       "    </tr>\n",
       "    <tr>\n",
       "      <th>2</th>\n",
       "      <td>&lt;tr&gt;\\n&lt;td&gt;9/9 1:00 ET&lt;/td&gt;\\n&lt;td&gt;At Minnesota&lt;/...</td>\n",
       "      <td>9/9 1:00 ET</td>\n",
       "      <td>&gt;At Minnesota&lt;/</td>\n",
       "    </tr>\n",
       "    <tr>\n",
       "      <th>3</th>\n",
       "      <td>&lt;tr&gt;\\n&lt;td&gt;9/9 1:00 ET&lt;/td&gt;\\n&lt;td&gt;At Indianapoli...</td>\n",
       "      <td>9/9 1:00 ET</td>\n",
       "      <td>&gt;At Indianapolis&lt;/</td>\n",
       "    </tr>\n",
       "    <tr>\n",
       "      <th>4</th>\n",
       "      <td>&lt;tr&gt;\\n&lt;td&gt;9/9 1:00 ET&lt;/td&gt;\\n&lt;td&gt;At Baltimore&lt;/...</td>\n",
       "      <td>9/9 1:00 ET</td>\n",
       "      <td>&gt;At Baltimore&lt;/</td>\n",
       "    </tr>\n",
       "  </tbody>\n",
       "</table>\n",
       "</div>"
      ],
      "text/plain": [
       "                                            all_data         date  \\\n",
       "0  <tr>\\n<td>9/6 8:20 ET</td>\\n<td>At Philadelphi...  9/6 8:20 ET   \n",
       "1  <tr>\\n<td>9/9 1:00 ET</td>\\n<td>Pittsburgh</td...  9/9 1:00 ET   \n",
       "2  <tr>\\n<td>9/9 1:00 ET</td>\\n<td>At Minnesota</...  9/9 1:00 ET   \n",
       "3  <tr>\\n<td>9/9 1:00 ET</td>\\n<td>At Indianapoli...  9/9 1:00 ET   \n",
       "4  <tr>\\n<td>9/9 1:00 ET</td>\\n<td>At Baltimore</...  9/9 1:00 ET   \n",
       "\n",
       "            favorites  \n",
       "0  >At Philadelphia</  \n",
       "1       >Pittsburgh</  \n",
       "2     >At Minnesota</  \n",
       "3  >At Indianapolis</  \n",
       "4     >At Baltimore</  "
      ]
     },
     "execution_count": 44,
     "metadata": {},
     "output_type": "execute_result"
    }
   ],
   "source": [
    "week1_df.head()"
   ]
  },
  {
   "cell_type": "code",
   "execution_count": 45,
   "metadata": {},
   "outputs": [],
   "source": [
    "# Clean up the favorites cells (remove >,<,/)\n",
    "fav_string = week1_df['favorites'][0]"
   ]
  },
  {
   "cell_type": "code",
   "execution_count": 46,
   "metadata": {},
   "outputs": [
    {
     "data": {
      "text/plain": [
       "'>At Philadelphia</'"
      ]
     },
     "execution_count": 46,
     "metadata": {},
     "output_type": "execute_result"
    }
   ],
   "source": [
    "fav_string"
   ]
  },
  {
   "cell_type": "code",
   "execution_count": 47,
   "metadata": {},
   "outputs": [
    {
     "data": {
      "text/plain": [
       "'At Philadelphia'"
      ]
     },
     "execution_count": 47,
     "metadata": {},
     "output_type": "execute_result"
    }
   ],
   "source": [
    "fav1 = fav_string.replace(\">\", \"\")\n",
    "fav2 = fav1.replace(\"<\", \"\")\n",
    "final_fav = fav2[:-1]\n",
    "final_fav"
   ]
  },
  {
   "cell_type": "code",
   "execution_count": 48,
   "metadata": {},
   "outputs": [
    {
     "data": {
      "text/plain": [
       "str"
      ]
     },
     "execution_count": 48,
     "metadata": {},
     "output_type": "execute_result"
    }
   ],
   "source": [
    "type(week1_df['favorites'][0])"
   ]
  },
  {
   "cell_type": "code",
   "execution_count": 49,
   "metadata": {},
   "outputs": [],
   "source": [
    "#loop thru each row and append each game's favorite to a list\n",
    "# cleaned_favs = []\n",
    "# for x in week1_df['favorites']:\n",
    "#     try:\n",
    "#         fav1 = x.replace(\">\", \"\")\n",
    "#     except AttributeError:\n",
    "#          fav1 = fav1\n",
    "#     try:\n",
    "#         fav2 = fav1.replace(\"<\", \"\")\n",
    "#     except AttributeError:\n",
    "#         fav2 = fav1=2\n",
    "#     final_fav = fav2[:-1]\n",
    "#     cleaned_favs.append(final_fav)"
   ]
  },
  {
   "cell_type": "code",
   "execution_count": 50,
   "metadata": {},
   "outputs": [],
   "source": [
    "#loop thru each row and append each game's favorite to a list\n",
    "cleaned_favs = []\n",
    "for x in week1_df['favorites']:\n",
    "    try:\n",
    "        fav1 = x.replace('<', '').replace('>', '').replace('/', '')\n",
    "    except AttributeError:\n",
    "        fav1 = fav1\n",
    "    cleaned_favs.append(fav1)"
   ]
  },
  {
   "cell_type": "code",
   "execution_count": 51,
   "metadata": {},
   "outputs": [
    {
     "data": {
      "text/plain": [
       "245"
      ]
     },
     "execution_count": 51,
     "metadata": {},
     "output_type": "execute_result"
    }
   ],
   "source": [
    "len(cleaned_favs)"
   ]
  },
  {
   "cell_type": "code",
   "execution_count": 52,
   "metadata": {},
   "outputs": [],
   "source": [
    "week1_df['cleaned_favorites'] = cleaned_favs"
   ]
  },
  {
   "cell_type": "code",
   "execution_count": 53,
   "metadata": {
    "scrolled": true
   },
   "outputs": [
    {
     "data": {
      "text/plain": [
       "'>Atlanta</'"
      ]
     },
     "execution_count": 53,
     "metadata": {},
     "output_type": "execute_result"
    }
   ],
   "source": [
    "#pull out underdog data from all_data\n",
    "week1_df['all_data'][0].split('td')[7]"
   ]
  },
  {
   "cell_type": "code",
   "execution_count": 54,
   "metadata": {},
   "outputs": [],
   "source": [
    "#create underdog column\n",
    "week1_df['underdogs'] = week1_df['all_data'].map(lambda x: x.split('td')[7] if len(x.split('td'))>3 else np.nan)"
   ]
  },
  {
   "cell_type": "code",
   "execution_count": 55,
   "metadata": {},
   "outputs": [],
   "source": [
    "#clean underdog column\n",
    "#loop thru each row and append each game's underdog to a list\n",
    "cleaned_underdogs = []\n",
    "for x in week1_df['underdogs']:\n",
    "    try:\n",
    "        und1 = x.replace('<', '').replace('>', '').replace('/', '')\n",
    "    except AttributeError:\n",
    "        und1 = und1\n",
    "    cleaned_underdogs.append(und1)"
   ]
  },
  {
   "cell_type": "code",
   "execution_count": 56,
   "metadata": {
    "scrolled": false
   },
   "outputs": [
    {
     "data": {
      "text/plain": [
       "245"
      ]
     },
     "execution_count": 56,
     "metadata": {},
     "output_type": "execute_result"
    }
   ],
   "source": [
    "len(cleaned_underdogs)"
   ]
  },
  {
   "cell_type": "code",
   "execution_count": 57,
   "metadata": {},
   "outputs": [
    {
     "data": {
      "text/plain": [
       "['Atlanta',\n",
       " 'At Cleveland',\n",
       " 'San Francisco',\n",
       " 'Cincinnati',\n",
       " 'Buffalo',\n",
       " 'At NY Giants',\n",
       " 'Tampa Bay',\n",
       " 'Houston',\n",
       " 'Tennessee',\n",
       " 'Kansas City',\n",
       " 'Seattle',\n",
       " 'Dallas',\n",
       " 'Washington',\n",
       " 'Chicago',\n",
       " ' width=\"22%\"',\n",
       " 'NY Jets',\n",
       " 'At Oakland',\n",
       " 'At Oakland',\n",
       " ' width=\"22%\"bUnderdogb',\n",
       " 'Kansas City',\n",
       " 'NY Jets',\n",
       " 'At Chicago',\n",
       " 'Jacksonville',\n",
       " 'At Washington',\n",
       " 'At Detroit',\n",
       " 'Oakland',\n",
       " 'At Miami',\n",
       " 'Baltimore',\n",
       " 'At Cleveland',\n",
       " 'Indianapolis',\n",
       " 'Seattle',\n",
       " 'At San Francisco',\n",
       " 'NY Giants',\n",
       " ' width=\"22%\"',\n",
       " 'New Orleans',\n",
       " 'LA Chargers',\n",
       " 'LA Chargers',\n",
       " ' width=\"22%\"bUnderdogb',\n",
       " 'At Denver',\n",
       " 'Tampa Bay',\n",
       " 'At Tennessee',\n",
       " 'Cleveland',\n",
       " 'At NY Jets',\n",
       " 'Oakland',\n",
       " 'San Diego',\n",
       " 'Buffalo',\n",
       " 'Chicago',\n",
       " 'At Jacksonville',\n",
       " 'Miami',\n",
       " 'At Dallas',\n",
       " 'Detroit',\n",
       " 'New England',\n",
       " ' width=\"22%\"',\n",
       " 'At Washington',\n",
       " 'At San Francisco',\n",
       " 'At San Francisco',\n",
       " ' width=\"22%\"bUnderdogb',\n",
       " 'Pittsburgh',\n",
       " 'At Chicago',\n",
       " 'At Houston',\n",
       " 'Cleveland',\n",
       " 'At Buffalo',\n",
       " 'At Washington',\n",
       " 'At Jacksonville',\n",
       " 'At St. Louis',\n",
       " 'New Orleans',\n",
       " 'Detroit',\n",
       " 'Tennessee',\n",
       " 'At Oakland',\n",
       " 'Baltimore',\n",
       " 'NY Giants',\n",
       " ' width=\"22%\"',\n",
       " 'At Atlanta',\n",
       " 'At San Francisco',\n",
       " 'At San Francisco',\n",
       " ' width=\"22%\"bUnderdogb',\n",
       " 'Green Bay',\n",
       " 'At Atlanta',\n",
       " 'Minnesota',\n",
       " 'Cleveland',\n",
       " 'Jacksonville',\n",
       " 'Oakland',\n",
       " 'Cincinnati',\n",
       " 'Buffalo',\n",
       " 'Washington',\n",
       " 'Tennessee',\n",
       " 'At Miami',\n",
       " 'Carolina',\n",
       " 'At Dallas',\n",
       " 'Indianapolis',\n",
       " ' width=\"22%\"',\n",
       " 'NY Giants',\n",
       " 'San Diego',\n",
       " 'San Diego',\n",
       " ' width=\"22%\"bUnderdogb',\n",
       " 'Baltimore',\n",
       " 'At Buffalo',\n",
       " 'Tennessee',\n",
       " 'Atlanta',\n",
       " 'At NY Jets',\n",
       " 'At Jacksonville',\n",
       " 'Cincinnati',\n",
       " 'Miami',\n",
       " 'At Carolina',\n",
       " 'Minnesota',\n",
       " 'Oakland',\n",
       " 'Arizona',\n",
       " 'Green Bay',\n",
       " 'NY Giants',\n",
       " ' width=\"22%\"',\n",
       " 'Philadelphia',\n",
       " 'At San Diego',\n",
       " 'At San Diego',\n",
       " ' width=\"22%\"bUnderdogb',\n",
       " 'Dallas',\n",
       " 'Indianapolis',\n",
       " 'At Cleveland',\n",
       " 'Buffalo',\n",
       " 'Washington',\n",
       " 'At Tennessee',\n",
       " 'Jacksonville',\n",
       " 'Miami',\n",
       " 'St. Louis',\n",
       " 'At Kansas City',\n",
       " 'San Francisco',\n",
       " 'At Tampa Bay',\n",
       " 'At Arizona',\n",
       " 'Pittsburgh',\n",
       " ' width=\"22%\"',\n",
       " 'Cincinnati',\n",
       " 'San Diego',\n",
       " 'San Diego',\n",
       " ' width=\"22%\"bUnderdogb',\n",
       " 'New Orleans',\n",
       " 'Pittsburgh',\n",
       " 'Detroit',\n",
       " 'At Chicago',\n",
       " 'Buffalo',\n",
       " 'Indianapolis',\n",
       " 'At St. Louis',\n",
       " 'Cincinnati',\n",
       " 'At Jacksonville',\n",
       " 'At Washington',\n",
       " 'Carolina',\n",
       " 'Seattle',\n",
       " 'Minnesota',\n",
       " 'Dallas',\n",
       " ' width=\"22%\"',\n",
       " 'At Miami',\n",
       " 'Oakland',\n",
       " 'Oakland',\n",
       " ' width=\"22%\"bUnderdogb',\n",
       " 'Minnesota',\n",
       " 'Carolina',\n",
       " 'At Buffalo',\n",
       " 'At Pittsburgh',\n",
       " 'Detroit',\n",
       " 'Cincinnati',\n",
       " 'Cleveland',\n",
       " 'Denver',\n",
       " 'At Houston',\n",
       " 'Oakland',\n",
       " 'At Philadelphia',\n",
       " 'At Seattle',\n",
       " 'At St. Louis',\n",
       " 'At Washington',\n",
       " ' width=\"22%\"',\n",
       " 'Baltimore',\n",
       " 'At Kansas City',\n",
       " 'At Kansas City',\n",
       " ' width=\"22%\"bUnderdogb',\n",
       " 'Tennessee',\n",
       " 'Miami',\n",
       " 'Kansas City',\n",
       " 'At Carolina',\n",
       " 'Denver',\n",
       " 'At Cleveland',\n",
       " 'NY Jets',\n",
       " 'Jacksonville',\n",
       " 'Detroit',\n",
       " 'At Tampa Bay',\n",
       " 'San Francisco',\n",
       " 'Washington',\n",
       " 'St. Louis',\n",
       " 'Chicago',\n",
       " ' width=\"22%\"',\n",
       " 'Buffalo',\n",
       " 'At Oakland',\n",
       " 'At Oakland',\n",
       " ' width=\"22%\"bUnderdogb',\n",
       " 'Washington',\n",
       " 'At Baltimore',\n",
       " 'At Miami',\n",
       " 'Kansas City',\n",
       " 'Houston',\n",
       " 'At Tennessee',\n",
       " 'At Atlanta',\n",
       " 'Seattle',\n",
       " 'Tampa Bay',\n",
       " 'St. Louis',\n",
       " 'At Cleveland',\n",
       " 'Carolina',\n",
       " 'At San Francisco',\n",
       " 'Chicago',\n",
       " ' width=\"22%\"',\n",
       " 'Minnesota',\n",
       " 'At Oakland',\n",
       " 'At Oakland',\n",
       " ' width=\"22%\"bUnderdogb',\n",
       " 'New Orleans',\n",
       " 'Kansas City',\n",
       " 'At Buffalo',\n",
       " 'At Cleveland',\n",
       " 'Tennessee',\n",
       " 'Carolina',\n",
       " 'At Green Bay',\n",
       " 'Atlanta',\n",
       " 'Miami',\n",
       " 'At NY Jets',\n",
       " 'Tampa Bay',\n",
       " 'Chicago',\n",
       " 'Detroit',\n",
       " 'NY Giants',\n",
       " ' width=\"22%\"',\n",
       " 'Baltimore',\n",
       " 'Arizona',\n",
       " 'Arizona',\n",
       " ' width=\"22%\"bUnderdogb',\n",
       " 'Miami',\n",
       " 'At St. Louis',\n",
       " 'NY Jets',\n",
       " 'Buffalo',\n",
       " 'Baltimore',\n",
       " 'Cincinnati',\n",
       " 'At Detroit',\n",
       " 'Atlanta',\n",
       " 'At Houston',\n",
       " 'New Orleans',\n",
       " 'At Jacksonville',\n",
       " 'At Green Bay',\n",
       " 'San Francisco',\n",
       " 'At NY Giants',\n",
       " ' width=\"22%\"',\n",
       " 'Minnesota',\n",
       " 'At Oakland']"
      ]
     },
     "execution_count": 57,
     "metadata": {},
     "output_type": "execute_result"
    }
   ],
   "source": [
    "cleaned_underdogs"
   ]
  },
  {
   "cell_type": "code",
   "execution_count": 58,
   "metadata": {},
   "outputs": [
    {
     "data": {
      "text/plain": [
       "'>Atlanta</'"
      ]
     },
     "execution_count": 58,
     "metadata": {},
     "output_type": "execute_result"
    }
   ],
   "source": [
    "week1_df['underdogs'][0]"
   ]
  },
  {
   "cell_type": "code",
   "execution_count": 59,
   "metadata": {},
   "outputs": [],
   "source": [
    "und1 = week1_df['underdogs'][0].replace(\">\", \"\")\n",
    "und2 = und1.replace(\"<\", \"\")"
   ]
  },
  {
   "cell_type": "code",
   "execution_count": 60,
   "metadata": {},
   "outputs": [
    {
     "data": {
      "text/plain": [
       "'Atlanta'"
      ]
     },
     "execution_count": 60,
     "metadata": {},
     "output_type": "execute_result"
    }
   ],
   "source": [
    "und2[:-1]"
   ]
  },
  {
   "cell_type": "code",
   "execution_count": 61,
   "metadata": {},
   "outputs": [
    {
     "data": {
      "text/plain": [
       "'Atlanta'"
      ]
     },
     "execution_count": 61,
     "metadata": {},
     "output_type": "execute_result"
    }
   ],
   "source": [
    "week1_df['underdogs'][0].replace('<', '').replace('>', '').replace('/', '')"
   ]
  },
  {
   "cell_type": "code",
   "execution_count": 62,
   "metadata": {},
   "outputs": [
    {
     "data": {
      "text/html": [
       "<div>\n",
       "<style scoped>\n",
       "    .dataframe tbody tr th:only-of-type {\n",
       "        vertical-align: middle;\n",
       "    }\n",
       "\n",
       "    .dataframe tbody tr th {\n",
       "        vertical-align: top;\n",
       "    }\n",
       "\n",
       "    .dataframe thead th {\n",
       "        text-align: right;\n",
       "    }\n",
       "</style>\n",
       "<table border=\"1\" class=\"dataframe\">\n",
       "  <thead>\n",
       "    <tr style=\"text-align: right;\">\n",
       "      <th></th>\n",
       "      <th>all_data</th>\n",
       "      <th>date</th>\n",
       "      <th>favorites</th>\n",
       "      <th>cleaned_favorites</th>\n",
       "      <th>underdogs</th>\n",
       "      <th>cleaned_underdogs</th>\n",
       "    </tr>\n",
       "  </thead>\n",
       "  <tbody>\n",
       "    <tr>\n",
       "      <th>0</th>\n",
       "      <td>&lt;tr&gt;\\n&lt;td&gt;9/6 8:20 ET&lt;/td&gt;\\n&lt;td&gt;At Philadelphi...</td>\n",
       "      <td>9/6 8:20 ET</td>\n",
       "      <td>&gt;At Philadelphia&lt;/</td>\n",
       "      <td>At Philadelphia</td>\n",
       "      <td>&gt;Atlanta&lt;/</td>\n",
       "      <td>Atlanta</td>\n",
       "    </tr>\n",
       "    <tr>\n",
       "      <th>1</th>\n",
       "      <td>&lt;tr&gt;\\n&lt;td&gt;9/9 1:00 ET&lt;/td&gt;\\n&lt;td&gt;Pittsburgh&lt;/td...</td>\n",
       "      <td>9/9 1:00 ET</td>\n",
       "      <td>&gt;Pittsburgh&lt;/</td>\n",
       "      <td>Pittsburgh</td>\n",
       "      <td>&gt;At Cleveland&lt;/</td>\n",
       "      <td>At Cleveland</td>\n",
       "    </tr>\n",
       "    <tr>\n",
       "      <th>2</th>\n",
       "      <td>&lt;tr&gt;\\n&lt;td&gt;9/9 1:00 ET&lt;/td&gt;\\n&lt;td&gt;At Minnesota&lt;/...</td>\n",
       "      <td>9/9 1:00 ET</td>\n",
       "      <td>&gt;At Minnesota&lt;/</td>\n",
       "      <td>At Minnesota</td>\n",
       "      <td>&gt;San Francisco&lt;/</td>\n",
       "      <td>San Francisco</td>\n",
       "    </tr>\n",
       "    <tr>\n",
       "      <th>3</th>\n",
       "      <td>&lt;tr&gt;\\n&lt;td&gt;9/9 1:00 ET&lt;/td&gt;\\n&lt;td&gt;At Indianapoli...</td>\n",
       "      <td>9/9 1:00 ET</td>\n",
       "      <td>&gt;At Indianapolis&lt;/</td>\n",
       "      <td>At Indianapolis</td>\n",
       "      <td>&gt;Cincinnati&lt;/</td>\n",
       "      <td>Cincinnati</td>\n",
       "    </tr>\n",
       "    <tr>\n",
       "      <th>4</th>\n",
       "      <td>&lt;tr&gt;\\n&lt;td&gt;9/9 1:00 ET&lt;/td&gt;\\n&lt;td&gt;At Baltimore&lt;/...</td>\n",
       "      <td>9/9 1:00 ET</td>\n",
       "      <td>&gt;At Baltimore&lt;/</td>\n",
       "      <td>At Baltimore</td>\n",
       "      <td>&gt;Buffalo&lt;/</td>\n",
       "      <td>Buffalo</td>\n",
       "    </tr>\n",
       "  </tbody>\n",
       "</table>\n",
       "</div>"
      ],
      "text/plain": [
       "                                            all_data         date  \\\n",
       "0  <tr>\\n<td>9/6 8:20 ET</td>\\n<td>At Philadelphi...  9/6 8:20 ET   \n",
       "1  <tr>\\n<td>9/9 1:00 ET</td>\\n<td>Pittsburgh</td...  9/9 1:00 ET   \n",
       "2  <tr>\\n<td>9/9 1:00 ET</td>\\n<td>At Minnesota</...  9/9 1:00 ET   \n",
       "3  <tr>\\n<td>9/9 1:00 ET</td>\\n<td>At Indianapoli...  9/9 1:00 ET   \n",
       "4  <tr>\\n<td>9/9 1:00 ET</td>\\n<td>At Baltimore</...  9/9 1:00 ET   \n",
       "\n",
       "            favorites cleaned_favorites         underdogs cleaned_underdogs  \n",
       "0  >At Philadelphia</   At Philadelphia        >Atlanta</           Atlanta  \n",
       "1       >Pittsburgh</        Pittsburgh   >At Cleveland</      At Cleveland  \n",
       "2     >At Minnesota</      At Minnesota  >San Francisco</     San Francisco  \n",
       "3  >At Indianapolis</   At Indianapolis     >Cincinnati</        Cincinnati  \n",
       "4     >At Baltimore</      At Baltimore        >Buffalo</           Buffalo  "
      ]
     },
     "execution_count": 62,
     "metadata": {},
     "output_type": "execute_result"
    }
   ],
   "source": [
    "week1_df['cleaned_underdogs'] = cleaned_underdogs\n",
    "week1_df.head()"
   ]
  },
  {
   "cell_type": "code",
   "execution_count": 63,
   "metadata": {},
   "outputs": [
    {
     "data": {
      "text/plain": [
       "'>\\xa0<span title=\"Pick Em. No Favorite. No Underdog.\">PK</span></'"
      ]
     },
     "execution_count": 63,
     "metadata": {},
     "output_type": "execute_result"
    }
   ],
   "source": [
    "week1_df['all_data'][0].split('td')[5]"
   ]
  },
  {
   "cell_type": "code",
   "execution_count": 64,
   "metadata": {},
   "outputs": [],
   "source": [
    "#create spread column\n",
    "week1_df['spread'] = week1_df['all_data'].map(lambda x: x.split('td')[5] if len(x.split('td'))>3 else np.nan)"
   ]
  },
  {
   "cell_type": "code",
   "execution_count": 65,
   "metadata": {},
   "outputs": [
    {
     "name": "stdout",
     "output_type": "stream",
     "text": [
      "245\n"
     ]
    }
   ],
   "source": [
    "#clean spread column\n",
    "#loop thru each row and append each game's spread to a list\n",
    "\n",
    "cleaned_spreads = []\n",
    "\n",
    "for x in week1_df['spread']:\n",
    "    try:\n",
    "        spread1 = x.replace('<', '').replace('>', '').replace('/', '')\n",
    "    except AttributeError:\n",
    "        spread1 = spread1\n",
    "    cleaned_spreads.append(spread1)\n",
    "    \n",
    "print(len(cleaned_spreads))"
   ]
  },
  {
   "cell_type": "code",
   "execution_count": 66,
   "metadata": {},
   "outputs": [
    {
     "data": {
      "text/html": [
       "<div>\n",
       "<style scoped>\n",
       "    .dataframe tbody tr th:only-of-type {\n",
       "        vertical-align: middle;\n",
       "    }\n",
       "\n",
       "    .dataframe tbody tr th {\n",
       "        vertical-align: top;\n",
       "    }\n",
       "\n",
       "    .dataframe thead th {\n",
       "        text-align: right;\n",
       "    }\n",
       "</style>\n",
       "<table border=\"1\" class=\"dataframe\">\n",
       "  <thead>\n",
       "    <tr style=\"text-align: right;\">\n",
       "      <th></th>\n",
       "      <th>all_data</th>\n",
       "      <th>date</th>\n",
       "      <th>favorites</th>\n",
       "      <th>cleaned_favorites</th>\n",
       "      <th>underdogs</th>\n",
       "      <th>cleaned_underdogs</th>\n",
       "      <th>spread</th>\n",
       "      <th>cleaned_spread</th>\n",
       "    </tr>\n",
       "  </thead>\n",
       "  <tbody>\n",
       "    <tr>\n",
       "      <th>0</th>\n",
       "      <td>&lt;tr&gt;\\n&lt;td&gt;9/6 8:20 ET&lt;/td&gt;\\n&lt;td&gt;At Philadelphi...</td>\n",
       "      <td>9/6 8:20 ET</td>\n",
       "      <td>&gt;At Philadelphia&lt;/</td>\n",
       "      <td>At Philadelphia</td>\n",
       "      <td>&gt;Atlanta&lt;/</td>\n",
       "      <td>Atlanta</td>\n",
       "      <td>&gt; &lt;span title=\"Pick Em. No Favorite. No Underd...</td>\n",
       "      <td>span title=\"Pick Em. No Favorite. No Underdog...</td>\n",
       "    </tr>\n",
       "    <tr>\n",
       "      <th>1</th>\n",
       "      <td>&lt;tr&gt;\\n&lt;td&gt;9/9 1:00 ET&lt;/td&gt;\\n&lt;td&gt;Pittsburgh&lt;/td...</td>\n",
       "      <td>9/9 1:00 ET</td>\n",
       "      <td>&gt;Pittsburgh&lt;/</td>\n",
       "      <td>Pittsburgh</td>\n",
       "      <td>&gt;At Cleveland&lt;/</td>\n",
       "      <td>At Cleveland</td>\n",
       "      <td>&gt;-3.5&lt;/</td>\n",
       "      <td>-3.5</td>\n",
       "    </tr>\n",
       "    <tr>\n",
       "      <th>2</th>\n",
       "      <td>&lt;tr&gt;\\n&lt;td&gt;9/9 1:00 ET&lt;/td&gt;\\n&lt;td&gt;At Minnesota&lt;/...</td>\n",
       "      <td>9/9 1:00 ET</td>\n",
       "      <td>&gt;At Minnesota&lt;/</td>\n",
       "      <td>At Minnesota</td>\n",
       "      <td>&gt;San Francisco&lt;/</td>\n",
       "      <td>San Francisco</td>\n",
       "      <td>&gt;-6.5&lt;/</td>\n",
       "      <td>-6.5</td>\n",
       "    </tr>\n",
       "    <tr>\n",
       "      <th>3</th>\n",
       "      <td>&lt;tr&gt;\\n&lt;td&gt;9/9 1:00 ET&lt;/td&gt;\\n&lt;td&gt;At Indianapoli...</td>\n",
       "      <td>9/9 1:00 ET</td>\n",
       "      <td>&gt;At Indianapolis&lt;/</td>\n",
       "      <td>At Indianapolis</td>\n",
       "      <td>&gt;Cincinnati&lt;/</td>\n",
       "      <td>Cincinnati</td>\n",
       "      <td>&gt; &lt;span title=\"Pick Em. No Favorite. No Underd...</td>\n",
       "      <td>span title=\"Pick Em. No Favorite. No Underdog...</td>\n",
       "    </tr>\n",
       "    <tr>\n",
       "      <th>4</th>\n",
       "      <td>&lt;tr&gt;\\n&lt;td&gt;9/9 1:00 ET&lt;/td&gt;\\n&lt;td&gt;At Baltimore&lt;/...</td>\n",
       "      <td>9/9 1:00 ET</td>\n",
       "      <td>&gt;At Baltimore&lt;/</td>\n",
       "      <td>At Baltimore</td>\n",
       "      <td>&gt;Buffalo&lt;/</td>\n",
       "      <td>Buffalo</td>\n",
       "      <td>&gt;-8&lt;/</td>\n",
       "      <td>-8</td>\n",
       "    </tr>\n",
       "  </tbody>\n",
       "</table>\n",
       "</div>"
      ],
      "text/plain": [
       "                                            all_data         date  \\\n",
       "0  <tr>\\n<td>9/6 8:20 ET</td>\\n<td>At Philadelphi...  9/6 8:20 ET   \n",
       "1  <tr>\\n<td>9/9 1:00 ET</td>\\n<td>Pittsburgh</td...  9/9 1:00 ET   \n",
       "2  <tr>\\n<td>9/9 1:00 ET</td>\\n<td>At Minnesota</...  9/9 1:00 ET   \n",
       "3  <tr>\\n<td>9/9 1:00 ET</td>\\n<td>At Indianapoli...  9/9 1:00 ET   \n",
       "4  <tr>\\n<td>9/9 1:00 ET</td>\\n<td>At Baltimore</...  9/9 1:00 ET   \n",
       "\n",
       "            favorites cleaned_favorites         underdogs cleaned_underdogs  \\\n",
       "0  >At Philadelphia</   At Philadelphia        >Atlanta</           Atlanta   \n",
       "1       >Pittsburgh</        Pittsburgh   >At Cleveland</      At Cleveland   \n",
       "2     >At Minnesota</      At Minnesota  >San Francisco</     San Francisco   \n",
       "3  >At Indianapolis</   At Indianapolis     >Cincinnati</        Cincinnati   \n",
       "4     >At Baltimore</      At Baltimore        >Buffalo</           Buffalo   \n",
       "\n",
       "                                              spread  \\\n",
       "0  > <span title=\"Pick Em. No Favorite. No Underd...   \n",
       "1                                            >-3.5</   \n",
       "2                                            >-6.5</   \n",
       "3  > <span title=\"Pick Em. No Favorite. No Underd...   \n",
       "4                                              >-8</   \n",
       "\n",
       "                                      cleaned_spread  \n",
       "0   span title=\"Pick Em. No Favorite. No Underdog...  \n",
       "1                                               -3.5  \n",
       "2                                               -6.5  \n",
       "3   span title=\"Pick Em. No Favorite. No Underdog...  \n",
       "4                                                 -8  "
      ]
     },
     "execution_count": 66,
     "metadata": {},
     "output_type": "execute_result"
    }
   ],
   "source": [
    "week1_df['cleaned_spread'] = cleaned_spreads\n",
    "week1_df.head()"
   ]
  },
  {
   "cell_type": "code",
   "execution_count": 67,
   "metadata": {},
   "outputs": [
    {
     "data": {
      "text/plain": [
       "'>44</'"
      ]
     },
     "execution_count": 67,
     "metadata": {},
     "output_type": "execute_result"
    }
   ],
   "source": [
    "week1_df['all_data'][0].split('td')[9]"
   ]
  },
  {
   "cell_type": "code",
   "execution_count": 68,
   "metadata": {},
   "outputs": [],
   "source": [
    "#create over_under column\n",
    "week1_df['over_under'] = week1_df['all_data'].map(lambda x: x.split('td')[9] if len(x.split('td'))>3 else np.nan)"
   ]
  },
  {
   "cell_type": "code",
   "execution_count": 69,
   "metadata": {},
   "outputs": [
    {
     "name": "stdout",
     "output_type": "stream",
     "text": [
      "245\n"
     ]
    }
   ],
   "source": [
    "#clean over_under column\n",
    "#loop thru each row and append each game's over_under to a list\n",
    "\n",
    "cleaned_over_under = []\n",
    "\n",
    "for x in week1_df['over_under']:\n",
    "    try:\n",
    "        ou1 = x.replace('<', '').replace('>', '').replace('/', '')\n",
    "    except AttributeError:\n",
    "        ou1 = ou1\n",
    "    cleaned_over_under.append(ou1)\n",
    "    \n",
    "print(len(cleaned_over_under))"
   ]
  },
  {
   "cell_type": "code",
   "execution_count": 70,
   "metadata": {
    "scrolled": true
   },
   "outputs": [
    {
     "data": {
      "text/html": [
       "<div>\n",
       "<style scoped>\n",
       "    .dataframe tbody tr th:only-of-type {\n",
       "        vertical-align: middle;\n",
       "    }\n",
       "\n",
       "    .dataframe tbody tr th {\n",
       "        vertical-align: top;\n",
       "    }\n",
       "\n",
       "    .dataframe thead th {\n",
       "        text-align: right;\n",
       "    }\n",
       "</style>\n",
       "<table border=\"1\" class=\"dataframe\">\n",
       "  <thead>\n",
       "    <tr style=\"text-align: right;\">\n",
       "      <th></th>\n",
       "      <th>all_data</th>\n",
       "      <th>date</th>\n",
       "      <th>favorites</th>\n",
       "      <th>cleaned_favorites</th>\n",
       "      <th>underdogs</th>\n",
       "      <th>cleaned_underdogs</th>\n",
       "      <th>spread</th>\n",
       "      <th>cleaned_spread</th>\n",
       "      <th>over_under</th>\n",
       "      <th>cleaned_over_under</th>\n",
       "    </tr>\n",
       "  </thead>\n",
       "  <tbody>\n",
       "    <tr>\n",
       "      <th>0</th>\n",
       "      <td>&lt;tr&gt;\\n&lt;td&gt;9/6 8:20 ET&lt;/td&gt;\\n&lt;td&gt;At Philadelphi...</td>\n",
       "      <td>9/6 8:20 ET</td>\n",
       "      <td>&gt;At Philadelphia&lt;/</td>\n",
       "      <td>At Philadelphia</td>\n",
       "      <td>&gt;Atlanta&lt;/</td>\n",
       "      <td>Atlanta</td>\n",
       "      <td>&gt; &lt;span title=\"Pick Em. No Favorite. No Underd...</td>\n",
       "      <td>span title=\"Pick Em. No Favorite. No Underdog...</td>\n",
       "      <td>&gt;44&lt;/</td>\n",
       "      <td>44</td>\n",
       "    </tr>\n",
       "    <tr>\n",
       "      <th>1</th>\n",
       "      <td>&lt;tr&gt;\\n&lt;td&gt;9/9 1:00 ET&lt;/td&gt;\\n&lt;td&gt;Pittsburgh&lt;/td...</td>\n",
       "      <td>9/9 1:00 ET</td>\n",
       "      <td>&gt;Pittsburgh&lt;/</td>\n",
       "      <td>Pittsburgh</td>\n",
       "      <td>&gt;At Cleveland&lt;/</td>\n",
       "      <td>At Cleveland</td>\n",
       "      <td>&gt;-3.5&lt;/</td>\n",
       "      <td>-3.5</td>\n",
       "      <td>&gt;41&lt;/</td>\n",
       "      <td>41</td>\n",
       "    </tr>\n",
       "    <tr>\n",
       "      <th>2</th>\n",
       "      <td>&lt;tr&gt;\\n&lt;td&gt;9/9 1:00 ET&lt;/td&gt;\\n&lt;td&gt;At Minnesota&lt;/...</td>\n",
       "      <td>9/9 1:00 ET</td>\n",
       "      <td>&gt;At Minnesota&lt;/</td>\n",
       "      <td>At Minnesota</td>\n",
       "      <td>&gt;San Francisco&lt;/</td>\n",
       "      <td>San Francisco</td>\n",
       "      <td>&gt;-6.5&lt;/</td>\n",
       "      <td>-6.5</td>\n",
       "      <td>&gt;46&lt;/</td>\n",
       "      <td>46</td>\n",
       "    </tr>\n",
       "    <tr>\n",
       "      <th>3</th>\n",
       "      <td>&lt;tr&gt;\\n&lt;td&gt;9/9 1:00 ET&lt;/td&gt;\\n&lt;td&gt;At Indianapoli...</td>\n",
       "      <td>9/9 1:00 ET</td>\n",
       "      <td>&gt;At Indianapolis&lt;/</td>\n",
       "      <td>At Indianapolis</td>\n",
       "      <td>&gt;Cincinnati&lt;/</td>\n",
       "      <td>Cincinnati</td>\n",
       "      <td>&gt; &lt;span title=\"Pick Em. No Favorite. No Underd...</td>\n",
       "      <td>span title=\"Pick Em. No Favorite. No Underdog...</td>\n",
       "      <td>&gt;47.5&lt;/</td>\n",
       "      <td>47.5</td>\n",
       "    </tr>\n",
       "    <tr>\n",
       "      <th>4</th>\n",
       "      <td>&lt;tr&gt;\\n&lt;td&gt;9/9 1:00 ET&lt;/td&gt;\\n&lt;td&gt;At Baltimore&lt;/...</td>\n",
       "      <td>9/9 1:00 ET</td>\n",
       "      <td>&gt;At Baltimore&lt;/</td>\n",
       "      <td>At Baltimore</td>\n",
       "      <td>&gt;Buffalo&lt;/</td>\n",
       "      <td>Buffalo</td>\n",
       "      <td>&gt;-8&lt;/</td>\n",
       "      <td>-8</td>\n",
       "      <td>&gt;38.5&lt;/</td>\n",
       "      <td>38.5</td>\n",
       "    </tr>\n",
       "  </tbody>\n",
       "</table>\n",
       "</div>"
      ],
      "text/plain": [
       "                                            all_data         date  \\\n",
       "0  <tr>\\n<td>9/6 8:20 ET</td>\\n<td>At Philadelphi...  9/6 8:20 ET   \n",
       "1  <tr>\\n<td>9/9 1:00 ET</td>\\n<td>Pittsburgh</td...  9/9 1:00 ET   \n",
       "2  <tr>\\n<td>9/9 1:00 ET</td>\\n<td>At Minnesota</...  9/9 1:00 ET   \n",
       "3  <tr>\\n<td>9/9 1:00 ET</td>\\n<td>At Indianapoli...  9/9 1:00 ET   \n",
       "4  <tr>\\n<td>9/9 1:00 ET</td>\\n<td>At Baltimore</...  9/9 1:00 ET   \n",
       "\n",
       "            favorites cleaned_favorites         underdogs cleaned_underdogs  \\\n",
       "0  >At Philadelphia</   At Philadelphia        >Atlanta</           Atlanta   \n",
       "1       >Pittsburgh</        Pittsburgh   >At Cleveland</      At Cleveland   \n",
       "2     >At Minnesota</      At Minnesota  >San Francisco</     San Francisco   \n",
       "3  >At Indianapolis</   At Indianapolis     >Cincinnati</        Cincinnati   \n",
       "4     >At Baltimore</      At Baltimore        >Buffalo</           Buffalo   \n",
       "\n",
       "                                              spread  \\\n",
       "0  > <span title=\"Pick Em. No Favorite. No Underd...   \n",
       "1                                            >-3.5</   \n",
       "2                                            >-6.5</   \n",
       "3  > <span title=\"Pick Em. No Favorite. No Underd...   \n",
       "4                                              >-8</   \n",
       "\n",
       "                                      cleaned_spread over_under  \\\n",
       "0   span title=\"Pick Em. No Favorite. No Underdog...      >44</   \n",
       "1                                               -3.5      >41</   \n",
       "2                                               -6.5      >46</   \n",
       "3   span title=\"Pick Em. No Favorite. No Underdog...    >47.5</   \n",
       "4                                                 -8    >38.5</   \n",
       "\n",
       "  cleaned_over_under  \n",
       "0                 44  \n",
       "1                 41  \n",
       "2                 46  \n",
       "3               47.5  \n",
       "4               38.5  "
      ]
     },
     "execution_count": 70,
     "metadata": {},
     "output_type": "execute_result"
    }
   ],
   "source": [
    "week1_df['cleaned_over_under'] = cleaned_over_under\n",
    "week1_df.head()"
   ]
  },
  {
   "cell_type": "code",
   "execution_count": 73,
   "metadata": {},
   "outputs": [],
   "source": [
    "#week1_df to pickle\n",
    "week1_df.to_pickle('week1.pkl')\n",
    "week1_df = pd.read_pickle('week1.pkl')"
   ]
  },
  {
   "cell_type": "code",
   "execution_count": 91,
   "metadata": {},
   "outputs": [],
   "source": [
    "#create money_odds column and clean data\n",
    "money_odds = []\n",
    "for x in week1_df['all_data']:\n",
    "    try:\n",
    "        money_odds.append(x.split('td')[11].replace('<', '').replace('>', '').replace('/', ''))\n",
    "    except:\n",
    "        money_odds.append(np.nan)\n",
    "        \n",
    "week1_df['money_odds'] = money_odds"
   ]
  },
  {
   "cell_type": "code",
   "execution_count": 96,
   "metadata": {},
   "outputs": [
    {
     "data": {
      "text/plain": [
       "3"
      ]
     },
     "execution_count": 96,
     "metadata": {},
     "output_type": "execute_result"
    }
   ],
   "source": [
    "len(week1_df.all_data[17].split('td'))"
   ]
  },
  {
   "cell_type": "code",
   "execution_count": 97,
   "metadata": {},
   "outputs": [],
   "source": [
    "#input week number for each game\n",
    "week1_df['week_number'] = '1'"
   ]
  },
  {
   "cell_type": "code",
   "execution_count": 104,
   "metadata": {},
   "outputs": [],
   "source": [
    "#want to input year for each game. on lines we want to decrease the count by one, len(week1_df.all_data[x].split('td')) = 3\n",
    "year = 2018\n",
    "year_list = []\n",
    "for x in week1_df['all_data']:\n",
    "    if len(x.split('td')) > 3:\n",
    "        year_list.append(year)\n",
    "    else:\n",
    "        year_list.append(year)\n",
    "        year -= 1\n",
    "\n",
    "week1_df['year'] = year_list"
   ]
  },
  {
   "cell_type": "code",
   "execution_count": 112,
   "metadata": {},
   "outputs": [
    {
     "data": {
      "text/html": [
       "<div>\n",
       "<style scoped>\n",
       "    .dataframe tbody tr th:only-of-type {\n",
       "        vertical-align: middle;\n",
       "    }\n",
       "\n",
       "    .dataframe tbody tr th {\n",
       "        vertical-align: top;\n",
       "    }\n",
       "\n",
       "    .dataframe thead th {\n",
       "        text-align: right;\n",
       "    }\n",
       "</style>\n",
       "<table border=\"1\" class=\"dataframe\">\n",
       "  <thead>\n",
       "    <tr style=\"text-align: right;\">\n",
       "      <th></th>\n",
       "      <th>date</th>\n",
       "      <th>year</th>\n",
       "      <th>week_number</th>\n",
       "      <th>cleaned_favorites</th>\n",
       "      <th>cleaned_underdogs</th>\n",
       "      <th>cleaned_spread</th>\n",
       "      <th>cleaned_over_under</th>\n",
       "      <th>money_odds</th>\n",
       "    </tr>\n",
       "  </thead>\n",
       "  <tbody>\n",
       "    <tr>\n",
       "      <th>0</th>\n",
       "      <td>9/6 8:20 ET</td>\n",
       "      <td>2018</td>\n",
       "      <td>1</td>\n",
       "      <td>At Philadelphia</td>\n",
       "      <td>Atlanta</td>\n",
       "      <td>span title=\"Pick Em. No Favorite. No Underdog...</td>\n",
       "      <td>44</td>\n",
       "      <td>-$110  -$110</td>\n",
       "    </tr>\n",
       "    <tr>\n",
       "      <th>1</th>\n",
       "      <td>9/9 1:00 ET</td>\n",
       "      <td>2018</td>\n",
       "      <td>1</td>\n",
       "      <td>Pittsburgh</td>\n",
       "      <td>At Cleveland</td>\n",
       "      <td>-3.5</td>\n",
       "      <td>41</td>\n",
       "      <td>-$180 +$160</td>\n",
       "    </tr>\n",
       "    <tr>\n",
       "      <th>2</th>\n",
       "      <td>9/9 1:00 ET</td>\n",
       "      <td>2018</td>\n",
       "      <td>1</td>\n",
       "      <td>At Minnesota</td>\n",
       "      <td>San Francisco</td>\n",
       "      <td>-6.5</td>\n",
       "      <td>46</td>\n",
       "      <td>-$275 +$235</td>\n",
       "    </tr>\n",
       "    <tr>\n",
       "      <th>3</th>\n",
       "      <td>9/9 1:00 ET</td>\n",
       "      <td>2018</td>\n",
       "      <td>1</td>\n",
       "      <td>At Indianapolis</td>\n",
       "      <td>Cincinnati</td>\n",
       "      <td>span title=\"Pick Em. No Favorite. No Underdog...</td>\n",
       "      <td>47.5</td>\n",
       "      <td>-$110  -$110</td>\n",
       "    </tr>\n",
       "    <tr>\n",
       "      <th>4</th>\n",
       "      <td>9/9 1:00 ET</td>\n",
       "      <td>2018</td>\n",
       "      <td>1</td>\n",
       "      <td>At Baltimore</td>\n",
       "      <td>Buffalo</td>\n",
       "      <td>-8</td>\n",
       "      <td>38.5</td>\n",
       "      <td>-$390 +$320</td>\n",
       "    </tr>\n",
       "  </tbody>\n",
       "</table>\n",
       "</div>"
      ],
      "text/plain": [
       "          date  year week_number cleaned_favorites cleaned_underdogs  \\\n",
       "0  9/6 8:20 ET  2018           1   At Philadelphia           Atlanta   \n",
       "1  9/9 1:00 ET  2018           1        Pittsburgh      At Cleveland   \n",
       "2  9/9 1:00 ET  2018           1      At Minnesota     San Francisco   \n",
       "3  9/9 1:00 ET  2018           1   At Indianapolis        Cincinnati   \n",
       "4  9/9 1:00 ET  2018           1      At Baltimore           Buffalo   \n",
       "\n",
       "                                      cleaned_spread cleaned_over_under  \\\n",
       "0   span title=\"Pick Em. No Favorite. No Underdog...                 44   \n",
       "1                                               -3.5                 41   \n",
       "2                                               -6.5                 46   \n",
       "3   span title=\"Pick Em. No Favorite. No Underdog...               47.5   \n",
       "4                                                 -8               38.5   \n",
       "\n",
       "     money_odds  \n",
       "0  -$110  -$110  \n",
       "1   -$180 +$160  \n",
       "2   -$275 +$235  \n",
       "3  -$110  -$110  \n",
       "4   -$390 +$320  "
      ]
     },
     "execution_count": 112,
     "metadata": {},
     "output_type": "execute_result"
    }
   ],
   "source": [
    "#create a final dataframe for week 1\n",
    "week1_final = week1_df[['date', 'year', 'week_number', 'cleaned_favorites', 'cleaned_underdogs', 'cleaned_spread', \n",
    "                        'cleaned_over_under', 'money_odds']]\n",
    "week1_final.head()"
   ]
  },
  {
   "cell_type": "code",
   "execution_count": 114,
   "metadata": {},
   "outputs": [],
   "source": [
    "#week1_final to pickle\n",
    "week1_final.to_pickle('week1_final.pkl')"
   ]
  }
 ],
 "metadata": {
  "kernelspec": {
   "display_name": "Python 3",
   "language": "python",
   "name": "python3"
  },
  "language_info": {
   "codemirror_mode": {
    "name": "ipython",
    "version": 3
   },
   "file_extension": ".py",
   "mimetype": "text/x-python",
   "name": "python",
   "nbconvert_exporter": "python",
   "pygments_lexer": "ipython3",
   "version": "3.6.6"
  }
 },
 "nbformat": 4,
 "nbformat_minor": 2
}
