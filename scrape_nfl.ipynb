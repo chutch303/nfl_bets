{
 "cells": [
  {
   "cell_type": "code",
   "execution_count": 2,
   "metadata": {},
   "outputs": [],
   "source": [
    "import requests\n",
    "from bs4 import BeautifulSoup\n",
    "import pandas as pd\n",
    "import numpy as np"
   ]
  },
  {
   "cell_type": "code",
   "execution_count": 3,
   "metadata": {},
   "outputs": [],
   "source": [
    "week1_link = 'http://www.footballlocks.com/nfl_odds_week_1.shtml#Closing%20NFL%20Odds%20Week%201,%202007'"
   ]
  },
  {
   "cell_type": "code",
   "execution_count": 4,
   "metadata": {},
   "outputs": [],
   "source": [
    "#get html text\n",
    "week1_html = requests.get(week1_link).text"
   ]
  },
  {
   "cell_type": "code",
   "execution_count": 5,
   "metadata": {},
   "outputs": [],
   "source": [
    "soup = BeautifulSoup(week1_html, 'html.parser')"
   ]
  },
  {
   "cell_type": "code",
   "execution_count": 6,
   "metadata": {},
   "outputs": [],
   "source": [
    "#want just table row data\n",
    "tr = soup.find_all(\"tr\")"
   ]
  },
  {
   "cell_type": "code",
   "execution_count": 7,
   "metadata": {},
   "outputs": [
    {
     "data": {
      "text/plain": [
       "bs4.element.Tag"
      ]
     },
     "execution_count": 7,
     "metadata": {},
     "output_type": "execute_result"
    }
   ],
   "source": [
    "type(tr[0])"
   ]
  },
  {
   "cell_type": "code",
   "execution_count": 8,
   "metadata": {},
   "outputs": [
    {
     "data": {
      "text/plain": [
       "{'attrs': {},\n",
       " 'can_be_empty_element': False,\n",
       " 'contents': [<td><table border=\"0\" cellpadding=\"0\" cellspacing=\"0\" colspan=\"3\" width=\"1003\">\n",
       "  <tr>\n",
       "  <td width=\"138\">\n",
       "  <div align=\"left\">\n",
       "  <script type=\"text/javascript\"><!--// <![CDATA[\n",
       "      /* [id35] Left Leaderboard Zone 125x90 */\n",
       "      OA_show(35);\n",
       "  // ]]> --></script><noscript><a href=\"http://www.footballlocks.com/openx/www/delivery/ck.php?n=a3f6b33\" target=\"_blank\">\n",
       "  <img alt=\"\" border=\"0\" src=\"http://www.footballlocks.com/openx/www/delivery/avw.php?zoneid=35&amp;n=a3f6b33\"/></a></noscript>\n",
       "  </div></td>\n",
       "  <td width=\"728\"><div align=\"center\">\n",
       "  <script type=\"text/javascript\"><!--// <![CDATA[\n",
       "      /* [id15] Leaderboard Banner Ad Zone 728 x 90 */\n",
       "      OA_show(15);\n",
       "  // ]]> --></script><noscript><a href=\"http://www.footballlocks.com/openx/www/delivery/ck.php?n=f29ad82\" target=\"_blank\">\n",
       "  <img alt=\"\" border=\"0\" src=\"http://www.footballlocks.com/openx/www/delivery/avw.php?zoneid=15&amp;n=f29ad82\"/></a></noscript>\n",
       "  </div></td>\n",
       "  <td width=\"137\">\n",
       "  <div align=\"right\">\n",
       "  <script type=\"text/javascript\"><!--// <![CDATA[\n",
       "      OA_show(85);\n",
       "  // ]]> --></script><noscript><a href=\"http://www.footballlocks.com/openx/www/delivery/ck.php?n=d612d10\" target=\"_blank\">\n",
       "  <img alt=\"\" border=\"0\" src=\"http://www.footballlocks.com/openx/www/delivery/avw.php?zoneid=85&amp;n=d612d10\"/></a></noscript>\n",
       "  </div></td>\n",
       "  </tr></table></td>],\n",
       " 'hidden': False,\n",
       " 'known_xml': False,\n",
       " 'name': 'tr',\n",
       " 'namespace': None,\n",
       " 'next_element': <td><table border=\"0\" cellpadding=\"0\" cellspacing=\"0\" colspan=\"3\" width=\"1003\">\n",
       " <tr>\n",
       " <td width=\"138\">\n",
       " <div align=\"left\">\n",
       " <script type=\"text/javascript\"><!--// <![CDATA[\n",
       "     /* [id35] Left Leaderboard Zone 125x90 */\n",
       "     OA_show(35);\n",
       " // ]]> --></script><noscript><a href=\"http://www.footballlocks.com/openx/www/delivery/ck.php?n=a3f6b33\" target=\"_blank\">\n",
       " <img alt=\"\" border=\"0\" src=\"http://www.footballlocks.com/openx/www/delivery/avw.php?zoneid=35&amp;n=a3f6b33\"/></a></noscript>\n",
       " </div></td>\n",
       " <td width=\"728\"><div align=\"center\">\n",
       " <script type=\"text/javascript\"><!--// <![CDATA[\n",
       "     /* [id15] Leaderboard Banner Ad Zone 728 x 90 */\n",
       "     OA_show(15);\n",
       " // ]]> --></script><noscript><a href=\"http://www.footballlocks.com/openx/www/delivery/ck.php?n=f29ad82\" target=\"_blank\">\n",
       " <img alt=\"\" border=\"0\" src=\"http://www.footballlocks.com/openx/www/delivery/avw.php?zoneid=15&amp;n=f29ad82\"/></a></noscript>\n",
       " </div></td>\n",
       " <td width=\"137\">\n",
       " <div align=\"right\">\n",
       " <script type=\"text/javascript\"><!--// <![CDATA[\n",
       "     OA_show(85);\n",
       " // ]]> --></script><noscript><a href=\"http://www.footballlocks.com/openx/www/delivery/ck.php?n=d612d10\" target=\"_blank\">\n",
       " <img alt=\"\" border=\"0\" src=\"http://www.footballlocks.com/openx/www/delivery/avw.php?zoneid=85&amp;n=d612d10\"/></a></noscript>\n",
       " </div></td>\n",
       " </tr></table></td>,\n",
       " 'next_sibling': None,\n",
       " 'parent': <table align=\"center\" border=\"0\" cellpadding=\"0\" cellspacing=\"0\" width=\"100%\">\n",
       " <tr><td><table border=\"0\" cellpadding=\"0\" cellspacing=\"0\" colspan=\"3\" width=\"1003\">\n",
       " <tr>\n",
       " <td width=\"138\">\n",
       " <div align=\"left\">\n",
       " <script type=\"text/javascript\"><!--// <![CDATA[\n",
       "     /* [id35] Left Leaderboard Zone 125x90 */\n",
       "     OA_show(35);\n",
       " // ]]> --></script><noscript><a href=\"http://www.footballlocks.com/openx/www/delivery/ck.php?n=a3f6b33\" target=\"_blank\">\n",
       " <img alt=\"\" border=\"0\" src=\"http://www.footballlocks.com/openx/www/delivery/avw.php?zoneid=35&amp;n=a3f6b33\"/></a></noscript>\n",
       " </div></td>\n",
       " <td width=\"728\"><div align=\"center\">\n",
       " <script type=\"text/javascript\"><!--// <![CDATA[\n",
       "     /* [id15] Leaderboard Banner Ad Zone 728 x 90 */\n",
       "     OA_show(15);\n",
       " // ]]> --></script><noscript><a href=\"http://www.footballlocks.com/openx/www/delivery/ck.php?n=f29ad82\" target=\"_blank\">\n",
       " <img alt=\"\" border=\"0\" src=\"http://www.footballlocks.com/openx/www/delivery/avw.php?zoneid=15&amp;n=f29ad82\"/></a></noscript>\n",
       " </div></td>\n",
       " <td width=\"137\">\n",
       " <div align=\"right\">\n",
       " <script type=\"text/javascript\"><!--// <![CDATA[\n",
       "     OA_show(85);\n",
       " // ]]> --></script><noscript><a href=\"http://www.footballlocks.com/openx/www/delivery/ck.php?n=d612d10\" target=\"_blank\">\n",
       " <img alt=\"\" border=\"0\" src=\"http://www.footballlocks.com/openx/www/delivery/avw.php?zoneid=85&amp;n=d612d10\"/></a></noscript>\n",
       " </div></td>\n",
       " </tr></table></td></tr></table>,\n",
       " 'parser_class': bs4.BeautifulSoup,\n",
       " 'prefix': None,\n",
       " 'preserve_whitespace_tags': {'pre', 'textarea'},\n",
       " 'previous_element': '\\n',\n",
       " 'previous_sibling': '\\n'}"
      ]
     },
     "execution_count": 8,
     "metadata": {},
     "output_type": "execute_result"
    }
   ],
   "source": [
    "tr[0].__dict__"
   ]
  },
  {
   "cell_type": "code",
   "execution_count": 9,
   "metadata": {},
   "outputs": [
    {
     "data": {
      "text/plain": [
       "311"
      ]
     },
     "execution_count": 9,
     "metadata": {},
     "output_type": "execute_result"
    }
   ],
   "source": [
    "len(tr)"
   ]
  },
  {
   "cell_type": "code",
   "execution_count": 10,
   "metadata": {},
   "outputs": [
    {
     "data": {
      "text/plain": [
       "<tr>\n",
       "<td>9/6 8:20 ET</td>\n",
       "<td>At Philadelphia</td>\n",
       "<td> <span title=\"Pick Em. No Favorite. No Underdog.\">PK</span></td>\n",
       "<td>Atlanta</td>\n",
       "<td>44</td>\n",
       "<td>-$110  -$110</td>\n",
       "</tr>"
      ]
     },
     "execution_count": 10,
     "metadata": {},
     "output_type": "execute_result"
    }
   ],
   "source": [
    "#start of table\n",
    "tr[51]"
   ]
  },
  {
   "cell_type": "code",
   "execution_count": 11,
   "metadata": {},
   "outputs": [
    {
     "data": {
      "text/plain": [
       "<tr>\n",
       "<td>9/11 10:15 ET</td>\n",
       "<td>San Diego</td>\n",
       "<td>-3</td>\n",
       "<td>At Oakland</td>\n",
       "<td>42</td>\n",
       "<td>-$160 +$140</td>\n",
       "</tr>"
      ]
     },
     "execution_count": 11,
     "metadata": {},
     "output_type": "execute_result"
    }
   ],
   "source": [
    "#last entry in table\n",
    "tr[295]"
   ]
  },
  {
   "cell_type": "code",
   "execution_count": 12,
   "metadata": {},
   "outputs": [],
   "source": [
    "#want to 296 because it does not include last one\n",
    "table = tr[51:296]"
   ]
  },
  {
   "cell_type": "code",
   "execution_count": 13,
   "metadata": {},
   "outputs": [
    {
     "data": {
      "text/plain": [
       "bs4.element.Tag"
      ]
     },
     "execution_count": 13,
     "metadata": {},
     "output_type": "execute_result"
    }
   ],
   "source": [
    "type(table[-1])"
   ]
  },
  {
   "cell_type": "code",
   "execution_count": 14,
   "metadata": {},
   "outputs": [
    {
     "data": {
      "text/plain": [
       "list"
      ]
     },
     "execution_count": 14,
     "metadata": {},
     "output_type": "execute_result"
    }
   ],
   "source": [
    "type(table)"
   ]
  },
  {
   "cell_type": "code",
   "execution_count": 15,
   "metadata": {},
   "outputs": [],
   "source": [
    "string_table = [str(i) for i in table]"
   ]
  },
  {
   "cell_type": "code",
   "execution_count": 16,
   "metadata": {},
   "outputs": [
    {
     "data": {
      "text/plain": [
       "str"
      ]
     },
     "execution_count": 16,
     "metadata": {},
     "output_type": "execute_result"
    }
   ],
   "source": [
    "type(string_table[0])"
   ]
  },
  {
   "cell_type": "code",
   "execution_count": 17,
   "metadata": {},
   "outputs": [],
   "source": [
    "week1_df = pd.DataFrame(string_table)"
   ]
  },
  {
   "cell_type": "code",
   "execution_count": 18,
   "metadata": {
    "scrolled": true
   },
   "outputs": [
    {
     "data": {
      "text/html": [
       "<div>\n",
       "<style scoped>\n",
       "    .dataframe tbody tr th:only-of-type {\n",
       "        vertical-align: middle;\n",
       "    }\n",
       "\n",
       "    .dataframe tbody tr th {\n",
       "        vertical-align: top;\n",
       "    }\n",
       "\n",
       "    .dataframe thead th {\n",
       "        text-align: right;\n",
       "    }\n",
       "</style>\n",
       "<table border=\"1\" class=\"dataframe\">\n",
       "  <thead>\n",
       "    <tr style=\"text-align: right;\">\n",
       "      <th></th>\n",
       "      <th>0</th>\n",
       "    </tr>\n",
       "  </thead>\n",
       "  <tbody>\n",
       "    <tr>\n",
       "      <th>0</th>\n",
       "      <td>&lt;tr&gt;\\n&lt;td&gt;9/6 8:20 ET&lt;/td&gt;\\n&lt;td&gt;At Philadelphi...</td>\n",
       "    </tr>\n",
       "    <tr>\n",
       "      <th>1</th>\n",
       "      <td>&lt;tr&gt;\\n&lt;td&gt;9/9 1:00 ET&lt;/td&gt;\\n&lt;td&gt;Pittsburgh&lt;/td...</td>\n",
       "    </tr>\n",
       "    <tr>\n",
       "      <th>2</th>\n",
       "      <td>&lt;tr&gt;\\n&lt;td&gt;9/9 1:00 ET&lt;/td&gt;\\n&lt;td&gt;At Minnesota&lt;/...</td>\n",
       "    </tr>\n",
       "    <tr>\n",
       "      <th>3</th>\n",
       "      <td>&lt;tr&gt;\\n&lt;td&gt;9/9 1:00 ET&lt;/td&gt;\\n&lt;td&gt;At Indianapoli...</td>\n",
       "    </tr>\n",
       "    <tr>\n",
       "      <th>4</th>\n",
       "      <td>&lt;tr&gt;\\n&lt;td&gt;9/9 1:00 ET&lt;/td&gt;\\n&lt;td&gt;At Baltimore&lt;/...</td>\n",
       "    </tr>\n",
       "  </tbody>\n",
       "</table>\n",
       "</div>"
      ],
      "text/plain": [
       "                                                   0\n",
       "0  <tr>\\n<td>9/6 8:20 ET</td>\\n<td>At Philadelphi...\n",
       "1  <tr>\\n<td>9/9 1:00 ET</td>\\n<td>Pittsburgh</td...\n",
       "2  <tr>\\n<td>9/9 1:00 ET</td>\\n<td>At Minnesota</...\n",
       "3  <tr>\\n<td>9/9 1:00 ET</td>\\n<td>At Indianapoli...\n",
       "4  <tr>\\n<td>9/9 1:00 ET</td>\\n<td>At Baltimore</..."
      ]
     },
     "execution_count": 18,
     "metadata": {},
     "output_type": "execute_result"
    }
   ],
   "source": [
    "week1_df.head()"
   ]
  },
  {
   "cell_type": "code",
   "execution_count": 19,
   "metadata": {},
   "outputs": [],
   "source": [
    "week1_df.columns = ['all_data']"
   ]
  },
  {
   "cell_type": "code",
   "execution_count": 20,
   "metadata": {
    "scrolled": true
   },
   "outputs": [
    {
     "data": {
      "text/html": [
       "<div>\n",
       "<style scoped>\n",
       "    .dataframe tbody tr th:only-of-type {\n",
       "        vertical-align: middle;\n",
       "    }\n",
       "\n",
       "    .dataframe tbody tr th {\n",
       "        vertical-align: top;\n",
       "    }\n",
       "\n",
       "    .dataframe thead th {\n",
       "        text-align: right;\n",
       "    }\n",
       "</style>\n",
       "<table border=\"1\" class=\"dataframe\">\n",
       "  <thead>\n",
       "    <tr style=\"text-align: right;\">\n",
       "      <th></th>\n",
       "      <th>all_data</th>\n",
       "    </tr>\n",
       "  </thead>\n",
       "  <tbody>\n",
       "    <tr>\n",
       "      <th>0</th>\n",
       "      <td>&lt;tr&gt;\\n&lt;td&gt;9/6 8:20 ET&lt;/td&gt;\\n&lt;td&gt;At Philadelphi...</td>\n",
       "    </tr>\n",
       "    <tr>\n",
       "      <th>1</th>\n",
       "      <td>&lt;tr&gt;\\n&lt;td&gt;9/9 1:00 ET&lt;/td&gt;\\n&lt;td&gt;Pittsburgh&lt;/td...</td>\n",
       "    </tr>\n",
       "    <tr>\n",
       "      <th>2</th>\n",
       "      <td>&lt;tr&gt;\\n&lt;td&gt;9/9 1:00 ET&lt;/td&gt;\\n&lt;td&gt;At Minnesota&lt;/...</td>\n",
       "    </tr>\n",
       "    <tr>\n",
       "      <th>3</th>\n",
       "      <td>&lt;tr&gt;\\n&lt;td&gt;9/9 1:00 ET&lt;/td&gt;\\n&lt;td&gt;At Indianapoli...</td>\n",
       "    </tr>\n",
       "    <tr>\n",
       "      <th>4</th>\n",
       "      <td>&lt;tr&gt;\\n&lt;td&gt;9/9 1:00 ET&lt;/td&gt;\\n&lt;td&gt;At Baltimore&lt;/...</td>\n",
       "    </tr>\n",
       "  </tbody>\n",
       "</table>\n",
       "</div>"
      ],
      "text/plain": [
       "                                            all_data\n",
       "0  <tr>\\n<td>9/6 8:20 ET</td>\\n<td>At Philadelphi...\n",
       "1  <tr>\\n<td>9/9 1:00 ET</td>\\n<td>Pittsburgh</td...\n",
       "2  <tr>\\n<td>9/9 1:00 ET</td>\\n<td>At Minnesota</...\n",
       "3  <tr>\\n<td>9/9 1:00 ET</td>\\n<td>At Indianapoli...\n",
       "4  <tr>\\n<td>9/9 1:00 ET</td>\\n<td>At Baltimore</..."
      ]
     },
     "execution_count": 20,
     "metadata": {},
     "output_type": "execute_result"
    }
   ],
   "source": [
    "week1_df.head()"
   ]
  },
  {
   "cell_type": "code",
   "execution_count": 21,
   "metadata": {},
   "outputs": [
    {
     "data": {
      "text/plain": [
       "'<tr>\\n<td>9/6 8:20 ET</td>\\n<td>At Philadelphia</td>\\n<td>\\xa0<span title=\"Pick Em. No Favorite. No Underdog.\">PK</span></td>\\n<td>Atlanta</td>\\n<td>44</td>\\n<td>-$110 \\xa0-$110</td>\\n</tr>'"
      ]
     },
     "execution_count": 21,
     "metadata": {},
     "output_type": "execute_result"
    }
   ],
   "source": [
    "week1_df['all_data'][0]"
   ]
  },
  {
   "cell_type": "code",
   "execution_count": 22,
   "metadata": {},
   "outputs": [
    {
     "data": {
      "text/plain": [
       "['<tr>\\n<',\n",
       " '>9/6 8:20 ET</',\n",
       " '>\\n<',\n",
       " '>At Philadelphia</',\n",
       " '>\\n<',\n",
       " '>\\xa0<span title=\"Pick Em. No Favorite. No Underdog.\">PK</span></',\n",
       " '>\\n<',\n",
       " '>Atlanta</',\n",
       " '>\\n<',\n",
       " '>44</',\n",
       " '>\\n<',\n",
       " '>-$110 \\xa0-$110</',\n",
       " '>\\n</tr>']"
      ]
     },
     "execution_count": 22,
     "metadata": {},
     "output_type": "execute_result"
    }
   ],
   "source": [
    "week1_df['all_data'][0].split('td')"
   ]
  },
  {
   "cell_type": "code",
   "execution_count": 23,
   "metadata": {
    "scrolled": true
   },
   "outputs": [],
   "source": [
    "date_string = week1_df['all_data'][0].split('td')[1]"
   ]
  },
  {
   "cell_type": "code",
   "execution_count": 24,
   "metadata": {},
   "outputs": [
    {
     "data": {
      "text/plain": [
       "'9/6 8:20 ET'"
      ]
     },
     "execution_count": 24,
     "metadata": {},
     "output_type": "execute_result"
    }
   ],
   "source": [
    "str1 = date_string.replace(\">\", \"\")\n",
    "str2 = str1.replace(\"<\", \"\")\n",
    "final_str = str2[:-1]\n",
    "final_str"
   ]
  },
  {
   "cell_type": "code",
   "execution_count": 25,
   "metadata": {},
   "outputs": [],
   "source": [
    "dates = [x.split('td')[1] for x in week1_df['all_data']]"
   ]
  },
  {
   "cell_type": "code",
   "execution_count": 26,
   "metadata": {},
   "outputs": [],
   "source": [
    "cleaned_dates = []\n",
    "for x in dates:\n",
    "    str1 = x.replace(\">\", \"\")\n",
    "    str2 = str1.replace(\"<\", \"\")\n",
    "    final_str = str2[:-1]\n",
    "    cleaned_dates.append(final_str)"
   ]
  },
  {
   "cell_type": "code",
   "execution_count": 27,
   "metadata": {},
   "outputs": [
    {
     "data": {
      "text/plain": [
       "'9/6 8:20 ET'"
      ]
     },
     "execution_count": 27,
     "metadata": {},
     "output_type": "execute_result"
    }
   ],
   "source": [
    "cleaned_dates[0]"
   ]
  },
  {
   "cell_type": "code",
   "execution_count": 28,
   "metadata": {},
   "outputs": [],
   "source": [
    "week1_df['date'] = cleaned_dates"
   ]
  },
  {
   "cell_type": "code",
   "execution_count": 29,
   "metadata": {
    "scrolled": false
   },
   "outputs": [
    {
     "data": {
      "text/html": [
       "<div>\n",
       "<style scoped>\n",
       "    .dataframe tbody tr th:only-of-type {\n",
       "        vertical-align: middle;\n",
       "    }\n",
       "\n",
       "    .dataframe tbody tr th {\n",
       "        vertical-align: top;\n",
       "    }\n",
       "\n",
       "    .dataframe thead th {\n",
       "        text-align: right;\n",
       "    }\n",
       "</style>\n",
       "<table border=\"1\" class=\"dataframe\">\n",
       "  <thead>\n",
       "    <tr style=\"text-align: right;\">\n",
       "      <th></th>\n",
       "      <th>all_data</th>\n",
       "      <th>date</th>\n",
       "    </tr>\n",
       "  </thead>\n",
       "  <tbody>\n",
       "    <tr>\n",
       "      <th>0</th>\n",
       "      <td>&lt;tr&gt;\\n&lt;td&gt;9/6 8:20 ET&lt;/td&gt;\\n&lt;td&gt;At Philadelphi...</td>\n",
       "      <td>9/6 8:20 ET</td>\n",
       "    </tr>\n",
       "    <tr>\n",
       "      <th>1</th>\n",
       "      <td>&lt;tr&gt;\\n&lt;td&gt;9/9 1:00 ET&lt;/td&gt;\\n&lt;td&gt;Pittsburgh&lt;/td...</td>\n",
       "      <td>9/9 1:00 ET</td>\n",
       "    </tr>\n",
       "    <tr>\n",
       "      <th>2</th>\n",
       "      <td>&lt;tr&gt;\\n&lt;td&gt;9/9 1:00 ET&lt;/td&gt;\\n&lt;td&gt;At Minnesota&lt;/...</td>\n",
       "      <td>9/9 1:00 ET</td>\n",
       "    </tr>\n",
       "    <tr>\n",
       "      <th>3</th>\n",
       "      <td>&lt;tr&gt;\\n&lt;td&gt;9/9 1:00 ET&lt;/td&gt;\\n&lt;td&gt;At Indianapoli...</td>\n",
       "      <td>9/9 1:00 ET</td>\n",
       "    </tr>\n",
       "    <tr>\n",
       "      <th>4</th>\n",
       "      <td>&lt;tr&gt;\\n&lt;td&gt;9/9 1:00 ET&lt;/td&gt;\\n&lt;td&gt;At Baltimore&lt;/...</td>\n",
       "      <td>9/9 1:00 ET</td>\n",
       "    </tr>\n",
       "  </tbody>\n",
       "</table>\n",
       "</div>"
      ],
      "text/plain": [
       "                                            all_data         date\n",
       "0  <tr>\\n<td>9/6 8:20 ET</td>\\n<td>At Philadelphi...  9/6 8:20 ET\n",
       "1  <tr>\\n<td>9/9 1:00 ET</td>\\n<td>Pittsburgh</td...  9/9 1:00 ET\n",
       "2  <tr>\\n<td>9/9 1:00 ET</td>\\n<td>At Minnesota</...  9/9 1:00 ET\n",
       "3  <tr>\\n<td>9/9 1:00 ET</td>\\n<td>At Indianapoli...  9/9 1:00 ET\n",
       "4  <tr>\\n<td>9/9 1:00 ET</td>\\n<td>At Baltimore</...  9/9 1:00 ET"
      ]
     },
     "execution_count": 29,
     "metadata": {},
     "output_type": "execute_result"
    }
   ],
   "source": [
    "week1_df.head()"
   ]
  },
  {
   "cell_type": "code",
   "execution_count": 31,
   "metadata": {},
   "outputs": [
    {
     "data": {
      "text/plain": [
       "'>At Philadelphia</'"
      ]
     },
     "execution_count": 31,
     "metadata": {},
     "output_type": "execute_result"
    }
   ],
   "source": [
    "week1_df['all_data'][0].split('td')[3]"
   ]
  },
  {
   "cell_type": "code",
   "execution_count": 32,
   "metadata": {},
   "outputs": [
    {
     "data": {
      "text/plain": [
       "'>At Philadelphia</'"
      ]
     },
     "execution_count": 32,
     "metadata": {},
     "output_type": "execute_result"
    }
   ],
   "source": [
    "week1_df['all_data'][0].split('td')[3]"
   ]
  },
  {
   "cell_type": "code",
   "execution_count": 33,
   "metadata": {},
   "outputs": [],
   "source": [
    "week1_df['favorites'] = week1_df['all_data'].map(lambda x: x.split('td')[3] if len(x.split('td'))>3 else np.nan)"
   ]
  },
  {
   "cell_type": "code",
   "execution_count": 34,
   "metadata": {
    "scrolled": true
   },
   "outputs": [
    {
     "data": {
      "text/html": [
       "<div>\n",
       "<style scoped>\n",
       "    .dataframe tbody tr th:only-of-type {\n",
       "        vertical-align: middle;\n",
       "    }\n",
       "\n",
       "    .dataframe tbody tr th {\n",
       "        vertical-align: top;\n",
       "    }\n",
       "\n",
       "    .dataframe thead th {\n",
       "        text-align: right;\n",
       "    }\n",
       "</style>\n",
       "<table border=\"1\" class=\"dataframe\">\n",
       "  <thead>\n",
       "    <tr style=\"text-align: right;\">\n",
       "      <th></th>\n",
       "      <th>all_data</th>\n",
       "      <th>date</th>\n",
       "      <th>favorites</th>\n",
       "    </tr>\n",
       "  </thead>\n",
       "  <tbody>\n",
       "    <tr>\n",
       "      <th>0</th>\n",
       "      <td>&lt;tr&gt;\\n&lt;td&gt;9/6 8:20 ET&lt;/td&gt;\\n&lt;td&gt;At Philadelphi...</td>\n",
       "      <td>9/6 8:20 ET</td>\n",
       "      <td>&gt;At Philadelphia&lt;/</td>\n",
       "    </tr>\n",
       "    <tr>\n",
       "      <th>1</th>\n",
       "      <td>&lt;tr&gt;\\n&lt;td&gt;9/9 1:00 ET&lt;/td&gt;\\n&lt;td&gt;Pittsburgh&lt;/td...</td>\n",
       "      <td>9/9 1:00 ET</td>\n",
       "      <td>&gt;Pittsburgh&lt;/</td>\n",
       "    </tr>\n",
       "    <tr>\n",
       "      <th>2</th>\n",
       "      <td>&lt;tr&gt;\\n&lt;td&gt;9/9 1:00 ET&lt;/td&gt;\\n&lt;td&gt;At Minnesota&lt;/...</td>\n",
       "      <td>9/9 1:00 ET</td>\n",
       "      <td>&gt;At Minnesota&lt;/</td>\n",
       "    </tr>\n",
       "    <tr>\n",
       "      <th>3</th>\n",
       "      <td>&lt;tr&gt;\\n&lt;td&gt;9/9 1:00 ET&lt;/td&gt;\\n&lt;td&gt;At Indianapoli...</td>\n",
       "      <td>9/9 1:00 ET</td>\n",
       "      <td>&gt;At Indianapolis&lt;/</td>\n",
       "    </tr>\n",
       "    <tr>\n",
       "      <th>4</th>\n",
       "      <td>&lt;tr&gt;\\n&lt;td&gt;9/9 1:00 ET&lt;/td&gt;\\n&lt;td&gt;At Baltimore&lt;/...</td>\n",
       "      <td>9/9 1:00 ET</td>\n",
       "      <td>&gt;At Baltimore&lt;/</td>\n",
       "    </tr>\n",
       "  </tbody>\n",
       "</table>\n",
       "</div>"
      ],
      "text/plain": [
       "                                            all_data         date  \\\n",
       "0  <tr>\\n<td>9/6 8:20 ET</td>\\n<td>At Philadelphi...  9/6 8:20 ET   \n",
       "1  <tr>\\n<td>9/9 1:00 ET</td>\\n<td>Pittsburgh</td...  9/9 1:00 ET   \n",
       "2  <tr>\\n<td>9/9 1:00 ET</td>\\n<td>At Minnesota</...  9/9 1:00 ET   \n",
       "3  <tr>\\n<td>9/9 1:00 ET</td>\\n<td>At Indianapoli...  9/9 1:00 ET   \n",
       "4  <tr>\\n<td>9/9 1:00 ET</td>\\n<td>At Baltimore</...  9/9 1:00 ET   \n",
       "\n",
       "            favorites  \n",
       "0  >At Philadelphia</  \n",
       "1       >Pittsburgh</  \n",
       "2     >At Minnesota</  \n",
       "3  >At Indianapolis</  \n",
       "4     >At Baltimore</  "
      ]
     },
     "execution_count": 34,
     "metadata": {},
     "output_type": "execute_result"
    }
   ],
   "source": [
    "week1_df.head()"
   ]
  },
  {
   "cell_type": "code",
   "execution_count": 35,
   "metadata": {},
   "outputs": [],
   "source": [
    "#week1_df to pickle\n",
    "week1_df.to_pickle('week1.pkl')\n",
    "week1_df = pd.read_pickle('week1.pkl')"
   ]
  },
  {
   "cell_type": "code",
   "execution_count": 38,
   "metadata": {},
   "outputs": [
    {
     "data": {
      "text/html": [
       "<div>\n",
       "<style scoped>\n",
       "    .dataframe tbody tr th:only-of-type {\n",
       "        vertical-align: middle;\n",
       "    }\n",
       "\n",
       "    .dataframe tbody tr th {\n",
       "        vertical-align: top;\n",
       "    }\n",
       "\n",
       "    .dataframe thead th {\n",
       "        text-align: right;\n",
       "    }\n",
       "</style>\n",
       "<table border=\"1\" class=\"dataframe\">\n",
       "  <thead>\n",
       "    <tr style=\"text-align: right;\">\n",
       "      <th></th>\n",
       "      <th>all_data</th>\n",
       "      <th>date</th>\n",
       "      <th>favorites</th>\n",
       "    </tr>\n",
       "  </thead>\n",
       "  <tbody>\n",
       "    <tr>\n",
       "      <th>0</th>\n",
       "      <td>&lt;tr&gt;\\n&lt;td&gt;9/6 8:20 ET&lt;/td&gt;\\n&lt;td&gt;At Philadelphi...</td>\n",
       "      <td>9/6 8:20 ET</td>\n",
       "      <td>&gt;At Philadelphia&lt;/</td>\n",
       "    </tr>\n",
       "    <tr>\n",
       "      <th>1</th>\n",
       "      <td>&lt;tr&gt;\\n&lt;td&gt;9/9 1:00 ET&lt;/td&gt;\\n&lt;td&gt;Pittsburgh&lt;/td...</td>\n",
       "      <td>9/9 1:00 ET</td>\n",
       "      <td>&gt;Pittsburgh&lt;/</td>\n",
       "    </tr>\n",
       "    <tr>\n",
       "      <th>2</th>\n",
       "      <td>&lt;tr&gt;\\n&lt;td&gt;9/9 1:00 ET&lt;/td&gt;\\n&lt;td&gt;At Minnesota&lt;/...</td>\n",
       "      <td>9/9 1:00 ET</td>\n",
       "      <td>&gt;At Minnesota&lt;/</td>\n",
       "    </tr>\n",
       "    <tr>\n",
       "      <th>3</th>\n",
       "      <td>&lt;tr&gt;\\n&lt;td&gt;9/9 1:00 ET&lt;/td&gt;\\n&lt;td&gt;At Indianapoli...</td>\n",
       "      <td>9/9 1:00 ET</td>\n",
       "      <td>&gt;At Indianapolis&lt;/</td>\n",
       "    </tr>\n",
       "    <tr>\n",
       "      <th>4</th>\n",
       "      <td>&lt;tr&gt;\\n&lt;td&gt;9/9 1:00 ET&lt;/td&gt;\\n&lt;td&gt;At Baltimore&lt;/...</td>\n",
       "      <td>9/9 1:00 ET</td>\n",
       "      <td>&gt;At Baltimore&lt;/</td>\n",
       "    </tr>\n",
       "  </tbody>\n",
       "</table>\n",
       "</div>"
      ],
      "text/plain": [
       "                                            all_data         date  \\\n",
       "0  <tr>\\n<td>9/6 8:20 ET</td>\\n<td>At Philadelphi...  9/6 8:20 ET   \n",
       "1  <tr>\\n<td>9/9 1:00 ET</td>\\n<td>Pittsburgh</td...  9/9 1:00 ET   \n",
       "2  <tr>\\n<td>9/9 1:00 ET</td>\\n<td>At Minnesota</...  9/9 1:00 ET   \n",
       "3  <tr>\\n<td>9/9 1:00 ET</td>\\n<td>At Indianapoli...  9/9 1:00 ET   \n",
       "4  <tr>\\n<td>9/9 1:00 ET</td>\\n<td>At Baltimore</...  9/9 1:00 ET   \n",
       "\n",
       "            favorites  \n",
       "0  >At Philadelphia</  \n",
       "1       >Pittsburgh</  \n",
       "2     >At Minnesota</  \n",
       "3  >At Indianapolis</  \n",
       "4     >At Baltimore</  "
      ]
     },
     "execution_count": 38,
     "metadata": {},
     "output_type": "execute_result"
    }
   ],
   "source": [
    "week1_df.head()"
   ]
  },
  {
   "cell_type": "code",
   "execution_count": 43,
   "metadata": {},
   "outputs": [],
   "source": [
    "fav_string = week1_df['favorites'][0]"
   ]
  },
  {
   "cell_type": "code",
   "execution_count": 44,
   "metadata": {},
   "outputs": [
    {
     "data": {
      "text/plain": [
       "'At Philadelphia'"
      ]
     },
     "execution_count": 44,
     "metadata": {},
     "output_type": "execute_result"
    }
   ],
   "source": [
    "fav1 = fav_string.replace(\">\", \"\")\n",
    "fav2 = fav1.replace(\"<\", \"\")\n",
    "final_fav = fav2[:-1]\n",
    "final_fav"
   ]
  },
  {
   "cell_type": "code",
   "execution_count": 46,
   "metadata": {},
   "outputs": [
    {
     "data": {
      "text/plain": [
       "str"
      ]
     },
     "execution_count": 46,
     "metadata": {},
     "output_type": "execute_result"
    }
   ],
   "source": [
    "type(week1_df['favorites'][0])"
   ]
  },
  {
   "cell_type": "code",
   "execution_count": 45,
   "metadata": {},
   "outputs": [
    {
     "ename": "AttributeError",
     "evalue": "'float' object has no attribute 'replace'",
     "output_type": "error",
     "traceback": [
      "\u001b[1;31m---------------------------------------------------------------------------\u001b[0m",
      "\u001b[1;31mAttributeError\u001b[0m                            Traceback (most recent call last)",
      "\u001b[1;32m<ipython-input-45-a342f68d4ff8>\u001b[0m in \u001b[0;36m<module>\u001b[1;34m()\u001b[0m\n\u001b[0;32m      1\u001b[0m \u001b[0mcleaned_favs\u001b[0m \u001b[1;33m=\u001b[0m \u001b[1;33m[\u001b[0m\u001b[1;33m]\u001b[0m\u001b[1;33m\u001b[0m\u001b[0m\n\u001b[0;32m      2\u001b[0m \u001b[1;32mfor\u001b[0m \u001b[0mx\u001b[0m \u001b[1;32min\u001b[0m \u001b[0mweek1_df\u001b[0m\u001b[1;33m[\u001b[0m\u001b[1;34m'favorites'\u001b[0m\u001b[1;33m]\u001b[0m\u001b[1;33m:\u001b[0m\u001b[1;33m\u001b[0m\u001b[0m\n\u001b[1;32m----> 3\u001b[1;33m     \u001b[0mfav1\u001b[0m \u001b[1;33m=\u001b[0m \u001b[0mx\u001b[0m\u001b[1;33m.\u001b[0m\u001b[0mreplace\u001b[0m\u001b[1;33m(\u001b[0m\u001b[1;34m\">\"\u001b[0m\u001b[1;33m,\u001b[0m \u001b[1;34m\"\"\u001b[0m\u001b[1;33m)\u001b[0m\u001b[1;33m\u001b[0m\u001b[0m\n\u001b[0m\u001b[0;32m      4\u001b[0m     \u001b[0mfav2\u001b[0m \u001b[1;33m=\u001b[0m \u001b[0mfav1\u001b[0m\u001b[1;33m.\u001b[0m\u001b[0mreplace\u001b[0m\u001b[1;33m(\u001b[0m\u001b[1;34m\"<\"\u001b[0m\u001b[1;33m,\u001b[0m \u001b[1;34m\"\"\u001b[0m\u001b[1;33m)\u001b[0m\u001b[1;33m\u001b[0m\u001b[0m\n\u001b[0;32m      5\u001b[0m     \u001b[0mfinal_fav\u001b[0m \u001b[1;33m=\u001b[0m \u001b[0mfav2\u001b[0m\u001b[1;33m[\u001b[0m\u001b[1;33m:\u001b[0m\u001b[1;33m-\u001b[0m\u001b[1;36m1\u001b[0m\u001b[1;33m]\u001b[0m\u001b[1;33m\u001b[0m\u001b[0m\n",
      "\u001b[1;31mAttributeError\u001b[0m: 'float' object has no attribute 'replace'"
     ]
    }
   ],
   "source": [
    "cleaned_favs = []\n",
    "for x in week1_df['favorites']:\n",
    "    fav1 = x.replace(\">\", \"\")\n",
    "    fav2 = fav1.replace(\"<\", \"\")\n",
    "    final_fav = fav2[:-1]\n",
    "    cleaned_favs.append(final_fav)"
   ]
  },
  {
   "cell_type": "code",
   "execution_count": 146,
   "metadata": {},
   "outputs": [],
   "source": []
  },
  {
   "cell_type": "code",
   "execution_count": 147,
   "metadata": {},
   "outputs": [
    {
     "data": {
      "text/html": [
       "<div>\n",
       "<style scoped>\n",
       "    .dataframe tbody tr th:only-of-type {\n",
       "        vertical-align: middle;\n",
       "    }\n",
       "\n",
       "    .dataframe tbody tr th {\n",
       "        vertical-align: top;\n",
       "    }\n",
       "\n",
       "    .dataframe thead th {\n",
       "        text-align: right;\n",
       "    }\n",
       "</style>\n",
       "<table border=\"1\" class=\"dataframe\">\n",
       "  <thead>\n",
       "    <tr style=\"text-align: right;\">\n",
       "      <th></th>\n",
       "      <th>all_data</th>\n",
       "      <th>date</th>\n",
       "      <th>favorites</th>\n",
       "    </tr>\n",
       "  </thead>\n",
       "  <tbody>\n",
       "    <tr>\n",
       "      <th>0</th>\n",
       "      <td>&lt;tr&gt;\\n&lt;td&gt;9/6 8:20 ET&lt;/td&gt;\\n&lt;td&gt;At Philadelphi...</td>\n",
       "      <td>9/6 8:20 ET</td>\n",
       "      <td>At Philadelphi</td>\n",
       "    </tr>\n",
       "    <tr>\n",
       "      <th>1</th>\n",
       "      <td>&lt;tr&gt;\\n&lt;td&gt;9/9 1:00 ET&lt;/td&gt;\\n&lt;td&gt;Pittsburgh&lt;/td...</td>\n",
       "      <td>9/9 1:00 ET</td>\n",
       "      <td>At Philadelphi</td>\n",
       "    </tr>\n",
       "    <tr>\n",
       "      <th>2</th>\n",
       "      <td>&lt;tr&gt;\\n&lt;td&gt;9/9 1:00 ET&lt;/td&gt;\\n&lt;td&gt;At Minnesota&lt;/...</td>\n",
       "      <td>9/9 1:00 ET</td>\n",
       "      <td>At Philadelphi</td>\n",
       "    </tr>\n",
       "    <tr>\n",
       "      <th>3</th>\n",
       "      <td>&lt;tr&gt;\\n&lt;td&gt;9/9 1:00 ET&lt;/td&gt;\\n&lt;td&gt;At Indianapoli...</td>\n",
       "      <td>9/9 1:00 ET</td>\n",
       "      <td>At Philadelphi</td>\n",
       "    </tr>\n",
       "    <tr>\n",
       "      <th>4</th>\n",
       "      <td>&lt;tr&gt;\\n&lt;td&gt;9/9 1:00 ET&lt;/td&gt;\\n&lt;td&gt;At Baltimore&lt;/...</td>\n",
       "      <td>9/9 1:00 ET</td>\n",
       "      <td>At Philadelphi</td>\n",
       "    </tr>\n",
       "  </tbody>\n",
       "</table>\n",
       "</div>"
      ],
      "text/plain": [
       "                                            all_data         date  \\\n",
       "0  <tr>\\n<td>9/6 8:20 ET</td>\\n<td>At Philadelphi...  9/6 8:20 ET   \n",
       "1  <tr>\\n<td>9/9 1:00 ET</td>\\n<td>Pittsburgh</td...  9/9 1:00 ET   \n",
       "2  <tr>\\n<td>9/9 1:00 ET</td>\\n<td>At Minnesota</...  9/9 1:00 ET   \n",
       "3  <tr>\\n<td>9/9 1:00 ET</td>\\n<td>At Indianapoli...  9/9 1:00 ET   \n",
       "4  <tr>\\n<td>9/9 1:00 ET</td>\\n<td>At Baltimore</...  9/9 1:00 ET   \n",
       "\n",
       "        favorites  \n",
       "0  At Philadelphi  \n",
       "1  At Philadelphi  \n",
       "2  At Philadelphi  \n",
       "3  At Philadelphi  \n",
       "4  At Philadelphi  "
      ]
     },
     "execution_count": 147,
     "metadata": {},
     "output_type": "execute_result"
    }
   ],
   "source": []
  },
  {
   "cell_type": "code",
   "execution_count": null,
   "metadata": {},
   "outputs": [],
   "source": []
  }
 ],
 "metadata": {
  "kernelspec": {
   "display_name": "Python 3",
   "language": "python",
   "name": "python3"
  },
  "language_info": {
   "codemirror_mode": {
    "name": "ipython",
    "version": 3
   },
   "file_extension": ".py",
   "mimetype": "text/x-python",
   "name": "python",
   "nbconvert_exporter": "python",
   "pygments_lexer": "ipython3",
   "version": "3.6.6"
  }
 },
 "nbformat": 4,
 "nbformat_minor": 2
}
